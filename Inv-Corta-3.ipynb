{
 "cells": [
  {
   "cell_type": "markdown",
   "metadata": {},
   "source": [
    "# Data Science con R"
   ]
  },
  {
   "cell_type": "markdown",
   "metadata": {},
   "source": [
    "## 1. ¿Por qué usar R para Data Science?"
   ]
  },
  {
   "cell_type": "markdown",
   "metadata": {},
   "source": [
    "Data Science busca extraer información a partir de conjuntos de datos, ya sea que estén o no estructurados. En la actualidad, la cantidad masiva de información que se ha obtenido a lo largo de los años ha hecho de este un campo de investigación de gran relevancia.\n",
    "\n",
    "A grandes rasgos, Data Science unifica la estadística, el análisis de datos y el aprendizaje automatizado (ML), así como otros métodos relacionados, con el fin de analizar, entender, caracterizar, y generalizar grandes conjuntos de datos existentes. Esto se puede observar más gráficamente en la siguiente imagen, donde se representa cómo las grandes áreas de las matemáticas, la ciencias de la computación y el conocimiento de negocios se unen para crear lo que se conoce como Data Science. \n",
    "\n",
    "<img src=\"https://miro.medium.com/max/467/1*mgXvzNcwfpnBawI6XTkVRg.png\">\n",
    "\n",
    "Aunque Data Science es un campo de investigación muy extenso, es posible dividirlo en dos grandes categorías según la forma en que se logra extraer la información de los conjuntos de datos: por medio de la estadísitica y por medio del ML.\n",
    "\n",
    "El enfoque estadístico es bastante común en la investigación en Data Science, por lo que los lenguajes de programación orientados a la estadística son muy usados para Data Science. \n",
    "\n",
    "El lenguaje de programación R, además de ser orientado a la estadística, posee también gran cantidad de cualidades que le permite a desarrolladores y estadistas trabajar de manera sencilla en el análisis de datos y en ML. \n",
    "\n",
    "Entra las más destacables características de R caben mencionar:\n",
    "\n",
    "* Permite hacer modelado linear y no linear.\n",
    "* Realiza análisis de series en el tiempo. \n",
    "* Permite una fácil integración con otros lenguajes de programación como C y C++.\n",
    "* Posee un gran repositorio de paquetes disponibles conocido como CRAN (Comprehensive R Archive Network), este cuenta con alrededor de 8000 paquetes diferentes, de forma que casi cualquier técnica estadística existente posee ya al menos un paquete en R que la implementa.\n",
    "\n",
    "R no es el único lenguaje de programación usado actualmente para el desarrollo de Data Science, aunque es uno de los más usados, al menos para los algoritmos estadísticos. Entre las ventajas que posee sobre otros lenguajes de alto nivel está que se enfoca principalmente en la manipulación de datos y en la visualización de los mismos. De igual forma, su integración con otros lenguajes de programación como C y C++ le permite mejorar su desempeño de una manera más sencilla. \n",
    "\n",
    "Asimismo, hay desventajas al usar R. Por ejemplo, toda la información que se manipula es almacenada en la memoria del sistema (RAM) lo que se convierte en una gran limitante, especialmente cuando se trata de conjunto de datos de gran tamaño. Además, este lenguaje no es tan intuitivo y sencillo de programar para personas que no poseen mucha experiencia, a diferencia de Python; es decir, R posee una mayor curva de aprendizaje sobre otros lenguajes de alto nivel.\n",
    "\n",
    "A pesar de sus desventajas, actualmente usuarios empresariales escogen desarrollar en R, en especial cuando se trata de puestos como Data Scientist, Analyst Manager, Data Analyst y Business Analyst."
   ]
  },
  {
   "cell_type": "markdown",
   "metadata": {},
   "source": [
    "##  2. Integración de R con Jupyter Notebook"
   ]
  },
  {
   "cell_type": "markdown",
   "metadata": {},
   "source": [
    "Para la creación de una Notebook en Jupyter usando R es necesario primeramente tener instalado Conda o Miniconda. Este puede ser descargado desde el sitio https://conda.io/, allí se podrá escoger la versión para el sistema operativo deseado.\n",
    "\n",
    "Una vez se tiene instalada la versión deseada, basta con crear un ambiente para R, lo cual instalará todos los paquetes básicos necesarios para crear un programa en R. Esto se realiza con el siguiente comando:"
   ]
  },
  {
   "cell_type": "raw",
   "metadata": {},
   "source": [
    "conda create -n r_env r-essentials r-base"
   ]
  },
  {
   "cell_type": "markdown",
   "metadata": {},
   "source": [
    "Una vez creado el ambiente llamado _r_env_ (puede utilizarse cualquier nombre a conveniencia), es posible acceder al mismo de la siguiente forma:"
   ]
  },
  {
   "cell_type": "raw",
   "metadata": {},
   "source": [
    "conda activate r_env"
   ]
  },
  {
   "cell_type": "markdown",
   "metadata": {},
   "source": [
    "A continuación se invoca una Jupyter Notebook con el siguiente comando:"
   ]
  },
  {
   "cell_type": "raw",
   "metadata": {},
   "source": [
    "jupyter notebook"
   ]
  },
  {
   "cell_type": "markdown",
   "metadata": {},
   "source": [
    "Esto nos abrirá un a interfaz web donde podemos crear un ambiente de trabajo (.ipynb) basado en R. Una vez finalizado el trabajo, se puede salir de Jupyter Notebok con la combinación CTRL+C y seguidamente se puede salir del ambiente virtual con el siguiente comando:"
   ]
  },
  {
   "cell_type": "raw",
   "metadata": {},
   "source": [
    "conda deactivate"
   ]
  },
  {
   "cell_type": "markdown",
   "metadata": {},
   "source": [
    "## 3. Manipulando set de datos"
   ]
  },
  {
   "cell_type": "markdown",
   "metadata": {},
   "source": [
    "### 3.1 Leyendo un set de datos"
   ]
  },
  {
   "cell_type": "markdown",
   "metadata": {},
   "source": [
    "La lectura de un set de datos de un archivo csv se hace por medio del comando _read.csv()_, esto lee toda la información y retorna el set de datos que se pueden almacenar en una variable. Por defecto utilizará comas como separador, y la primer fila corresponderá a la cabecera del set de datos."
   ]
  },
  {
   "cell_type": "code",
   "execution_count": 1,
   "metadata": {
    "scrolled": true
   },
   "outputs": [],
   "source": [
    "heart_df <- read.csv(\"heart.csv\")"
   ]
  },
  {
   "cell_type": "markdown",
   "metadata": {},
   "source": [
    "Para conjuntos de datos muy grandes no siempre es posible ver toda la información a la vez; para ello se puede usar las funciones _head()_ y _tail()_ para obtener ya sean las primeras o las últimas entradas. Estas funciones reciben como parámetros el set de datos y la cantidad de tuplas que se desea desplegar."
   ]
  },
  {
   "cell_type": "code",
   "execution_count": 2,
   "metadata": {
    "scrolled": false
   },
   "outputs": [
    {
     "data": {
      "text/html": [
       "<table>\n",
       "<thead><tr><th scope=col>ï..age</th><th scope=col>sex</th><th scope=col>cp</th><th scope=col>trestbps</th><th scope=col>chol</th><th scope=col>fbs</th><th scope=col>restecg</th><th scope=col>thalach</th><th scope=col>exang</th><th scope=col>oldpeak</th><th scope=col>slope</th><th scope=col>ca</th><th scope=col>thal</th><th scope=col>target</th></tr></thead>\n",
       "<tbody>\n",
       "\t<tr><td>63 </td><td>1  </td><td>3  </td><td>145</td><td>233</td><td>1  </td><td>0  </td><td>150</td><td>0  </td><td>2.3</td><td>0  </td><td>0  </td><td>1  </td><td>1  </td></tr>\n",
       "\t<tr><td>37 </td><td>1  </td><td>2  </td><td>130</td><td>250</td><td>0  </td><td>1  </td><td>187</td><td>0  </td><td>3.5</td><td>0  </td><td>0  </td><td>2  </td><td>1  </td></tr>\n",
       "\t<tr><td>41 </td><td>0  </td><td>1  </td><td>130</td><td>204</td><td>0  </td><td>0  </td><td>172</td><td>0  </td><td>1.4</td><td>2  </td><td>0  </td><td>2  </td><td>1  </td></tr>\n",
       "\t<tr><td>56 </td><td>1  </td><td>1  </td><td>120</td><td>236</td><td>0  </td><td>1  </td><td>178</td><td>0  </td><td>0.8</td><td>2  </td><td>0  </td><td>2  </td><td>1  </td></tr>\n",
       "\t<tr><td>57 </td><td>0  </td><td>0  </td><td>120</td><td>354</td><td>0  </td><td>1  </td><td>163</td><td>1  </td><td>0.6</td><td>2  </td><td>0  </td><td>2  </td><td>1  </td></tr>\n",
       "\t<tr><td>57 </td><td>1  </td><td>0  </td><td>140</td><td>192</td><td>0  </td><td>1  </td><td>148</td><td>0  </td><td>0.4</td><td>1  </td><td>0  </td><td>1  </td><td>1  </td></tr>\n",
       "\t<tr><td>56 </td><td>0  </td><td>1  </td><td>140</td><td>294</td><td>0  </td><td>0  </td><td>153</td><td>0  </td><td>1.3</td><td>1  </td><td>0  </td><td>2  </td><td>1  </td></tr>\n",
       "\t<tr><td>44 </td><td>1  </td><td>1  </td><td>120</td><td>263</td><td>0  </td><td>1  </td><td>173</td><td>0  </td><td>0.0</td><td>2  </td><td>0  </td><td>3  </td><td>1  </td></tr>\n",
       "\t<tr><td>52 </td><td>1  </td><td>2  </td><td>172</td><td>199</td><td>1  </td><td>1  </td><td>162</td><td>0  </td><td>0.5</td><td>2  </td><td>0  </td><td>3  </td><td>1  </td></tr>\n",
       "\t<tr><td>57 </td><td>1  </td><td>2  </td><td>150</td><td>168</td><td>0  </td><td>1  </td><td>174</td><td>0  </td><td>1.6</td><td>2  </td><td>0  </td><td>2  </td><td>1  </td></tr>\n",
       "</tbody>\n",
       "</table>\n"
      ],
      "text/latex": [
       "\\begin{tabular}{r|llllllllllllll}\n",
       " ï..age & sex & cp & trestbps & chol & fbs & restecg & thalach & exang & oldpeak & slope & ca & thal & target\\\\\n",
       "\\hline\n",
       "\t 63  & 1   & 3   & 145 & 233 & 1   & 0   & 150 & 0   & 2.3 & 0   & 0   & 1   & 1  \\\\\n",
       "\t 37  & 1   & 2   & 130 & 250 & 0   & 1   & 187 & 0   & 3.5 & 0   & 0   & 2   & 1  \\\\\n",
       "\t 41  & 0   & 1   & 130 & 204 & 0   & 0   & 172 & 0   & 1.4 & 2   & 0   & 2   & 1  \\\\\n",
       "\t 56  & 1   & 1   & 120 & 236 & 0   & 1   & 178 & 0   & 0.8 & 2   & 0   & 2   & 1  \\\\\n",
       "\t 57  & 0   & 0   & 120 & 354 & 0   & 1   & 163 & 1   & 0.6 & 2   & 0   & 2   & 1  \\\\\n",
       "\t 57  & 1   & 0   & 140 & 192 & 0   & 1   & 148 & 0   & 0.4 & 1   & 0   & 1   & 1  \\\\\n",
       "\t 56  & 0   & 1   & 140 & 294 & 0   & 0   & 153 & 0   & 1.3 & 1   & 0   & 2   & 1  \\\\\n",
       "\t 44  & 1   & 1   & 120 & 263 & 0   & 1   & 173 & 0   & 0.0 & 2   & 0   & 3   & 1  \\\\\n",
       "\t 52  & 1   & 2   & 172 & 199 & 1   & 1   & 162 & 0   & 0.5 & 2   & 0   & 3   & 1  \\\\\n",
       "\t 57  & 1   & 2   & 150 & 168 & 0   & 1   & 174 & 0   & 1.6 & 2   & 0   & 2   & 1  \\\\\n",
       "\\end{tabular}\n"
      ],
      "text/markdown": [
       "\n",
       "| ï..age | sex | cp | trestbps | chol | fbs | restecg | thalach | exang | oldpeak | slope | ca | thal | target |\n",
       "|---|---|---|---|---|---|---|---|---|---|---|---|---|---|\n",
       "| 63  | 1   | 3   | 145 | 233 | 1   | 0   | 150 | 0   | 2.3 | 0   | 0   | 1   | 1   |\n",
       "| 37  | 1   | 2   | 130 | 250 | 0   | 1   | 187 | 0   | 3.5 | 0   | 0   | 2   | 1   |\n",
       "| 41  | 0   | 1   | 130 | 204 | 0   | 0   | 172 | 0   | 1.4 | 2   | 0   | 2   | 1   |\n",
       "| 56  | 1   | 1   | 120 | 236 | 0   | 1   | 178 | 0   | 0.8 | 2   | 0   | 2   | 1   |\n",
       "| 57  | 0   | 0   | 120 | 354 | 0   | 1   | 163 | 1   | 0.6 | 2   | 0   | 2   | 1   |\n",
       "| 57  | 1   | 0   | 140 | 192 | 0   | 1   | 148 | 0   | 0.4 | 1   | 0   | 1   | 1   |\n",
       "| 56  | 0   | 1   | 140 | 294 | 0   | 0   | 153 | 0   | 1.3 | 1   | 0   | 2   | 1   |\n",
       "| 44  | 1   | 1   | 120 | 263 | 0   | 1   | 173 | 0   | 0.0 | 2   | 0   | 3   | 1   |\n",
       "| 52  | 1   | 2   | 172 | 199 | 1   | 1   | 162 | 0   | 0.5 | 2   | 0   | 3   | 1   |\n",
       "| 57  | 1   | 2   | 150 | 168 | 0   | 1   | 174 | 0   | 1.6 | 2   | 0   | 2   | 1   |\n",
       "\n"
      ],
      "text/plain": [
       "   ï..age sex cp trestbps chol fbs restecg thalach exang oldpeak slope ca thal\n",
       "1  63     1   3  145      233  1   0       150     0     2.3     0     0  1   \n",
       "2  37     1   2  130      250  0   1       187     0     3.5     0     0  2   \n",
       "3  41     0   1  130      204  0   0       172     0     1.4     2     0  2   \n",
       "4  56     1   1  120      236  0   1       178     0     0.8     2     0  2   \n",
       "5  57     0   0  120      354  0   1       163     1     0.6     2     0  2   \n",
       "6  57     1   0  140      192  0   1       148     0     0.4     1     0  1   \n",
       "7  56     0   1  140      294  0   0       153     0     1.3     1     0  2   \n",
       "8  44     1   1  120      263  0   1       173     0     0.0     2     0  3   \n",
       "9  52     1   2  172      199  1   1       162     0     0.5     2     0  3   \n",
       "10 57     1   2  150      168  0   1       174     0     1.6     2     0  2   \n",
       "   target\n",
       "1  1     \n",
       "2  1     \n",
       "3  1     \n",
       "4  1     \n",
       "5  1     \n",
       "6  1     \n",
       "7  1     \n",
       "8  1     \n",
       "9  1     \n",
       "10 1     "
      ]
     },
     "metadata": {},
     "output_type": "display_data"
    }
   ],
   "source": [
    "# Podemos observar las primeras 10 columnas del set de datos\n",
    "head(heart_df, 10)"
   ]
  },
  {
   "cell_type": "code",
   "execution_count": 3,
   "metadata": {},
   "outputs": [
    {
     "data": {
      "text/html": [
       "<table>\n",
       "<thead><tr><th></th><th scope=col>ï..age</th><th scope=col>sex</th><th scope=col>cp</th><th scope=col>trestbps</th><th scope=col>chol</th><th scope=col>fbs</th><th scope=col>restecg</th><th scope=col>thalach</th><th scope=col>exang</th><th scope=col>oldpeak</th><th scope=col>slope</th><th scope=col>ca</th><th scope=col>thal</th><th scope=col>target</th></tr></thead>\n",
       "<tbody>\n",
       "\t<tr><th scope=row>298</th><td>59 </td><td>1  </td><td>0  </td><td>164</td><td>176</td><td>1  </td><td>0  </td><td> 90</td><td>0  </td><td>1.0</td><td>1  </td><td>2  </td><td>1  </td><td>0  </td></tr>\n",
       "\t<tr><th scope=row>299</th><td>57 </td><td>0  </td><td>0  </td><td>140</td><td>241</td><td>0  </td><td>1  </td><td>123</td><td>1  </td><td>0.2</td><td>1  </td><td>0  </td><td>3  </td><td>0  </td></tr>\n",
       "\t<tr><th scope=row>300</th><td>45 </td><td>1  </td><td>3  </td><td>110</td><td>264</td><td>0  </td><td>1  </td><td>132</td><td>0  </td><td>1.2</td><td>1  </td><td>0  </td><td>3  </td><td>0  </td></tr>\n",
       "\t<tr><th scope=row>301</th><td>68 </td><td>1  </td><td>0  </td><td>144</td><td>193</td><td>1  </td><td>1  </td><td>141</td><td>0  </td><td>3.4</td><td>1  </td><td>2  </td><td>3  </td><td>0  </td></tr>\n",
       "\t<tr><th scope=row>302</th><td>57 </td><td>1  </td><td>0  </td><td>130</td><td>131</td><td>0  </td><td>1  </td><td>115</td><td>1  </td><td>1.2</td><td>1  </td><td>1  </td><td>3  </td><td>0  </td></tr>\n",
       "\t<tr><th scope=row>303</th><td>57 </td><td>0  </td><td>1  </td><td>130</td><td>236</td><td>0  </td><td>0  </td><td>174</td><td>0  </td><td>0.0</td><td>1  </td><td>1  </td><td>2  </td><td>0  </td></tr>\n",
       "</tbody>\n",
       "</table>\n"
      ],
      "text/latex": [
       "\\begin{tabular}{r|llllllllllllll}\n",
       "  & ï..age & sex & cp & trestbps & chol & fbs & restecg & thalach & exang & oldpeak & slope & ca & thal & target\\\\\n",
       "\\hline\n",
       "\t298 & 59  & 1   & 0   & 164 & 176 & 1   & 0   &  90 & 0   & 1.0 & 1   & 2   & 1   & 0  \\\\\n",
       "\t299 & 57  & 0   & 0   & 140 & 241 & 0   & 1   & 123 & 1   & 0.2 & 1   & 0   & 3   & 0  \\\\\n",
       "\t300 & 45  & 1   & 3   & 110 & 264 & 0   & 1   & 132 & 0   & 1.2 & 1   & 0   & 3   & 0  \\\\\n",
       "\t301 & 68  & 1   & 0   & 144 & 193 & 1   & 1   & 141 & 0   & 3.4 & 1   & 2   & 3   & 0  \\\\\n",
       "\t302 & 57  & 1   & 0   & 130 & 131 & 0   & 1   & 115 & 1   & 1.2 & 1   & 1   & 3   & 0  \\\\\n",
       "\t303 & 57  & 0   & 1   & 130 & 236 & 0   & 0   & 174 & 0   & 0.0 & 1   & 1   & 2   & 0  \\\\\n",
       "\\end{tabular}\n"
      ],
      "text/markdown": [
       "\n",
       "| <!--/--> | ï..age | sex | cp | trestbps | chol | fbs | restecg | thalach | exang | oldpeak | slope | ca | thal | target |\n",
       "|---|---|---|---|---|---|---|---|---|---|---|---|---|---|---|\n",
       "| 298 | 59  | 1   | 0   | 164 | 176 | 1   | 0   |  90 | 0   | 1.0 | 1   | 2   | 1   | 0   |\n",
       "| 299 | 57  | 0   | 0   | 140 | 241 | 0   | 1   | 123 | 1   | 0.2 | 1   | 0   | 3   | 0   |\n",
       "| 300 | 45  | 1   | 3   | 110 | 264 | 0   | 1   | 132 | 0   | 1.2 | 1   | 0   | 3   | 0   |\n",
       "| 301 | 68  | 1   | 0   | 144 | 193 | 1   | 1   | 141 | 0   | 3.4 | 1   | 2   | 3   | 0   |\n",
       "| 302 | 57  | 1   | 0   | 130 | 131 | 0   | 1   | 115 | 1   | 1.2 | 1   | 1   | 3   | 0   |\n",
       "| 303 | 57  | 0   | 1   | 130 | 236 | 0   | 0   | 174 | 0   | 0.0 | 1   | 1   | 2   | 0   |\n",
       "\n"
      ],
      "text/plain": [
       "    ï..age sex cp trestbps chol fbs restecg thalach exang oldpeak slope ca thal\n",
       "298 59     1   0  164      176  1   0        90     0     1.0     1     2  1   \n",
       "299 57     0   0  140      241  0   1       123     1     0.2     1     0  3   \n",
       "300 45     1   3  110      264  0   1       132     0     1.2     1     0  3   \n",
       "301 68     1   0  144      193  1   1       141     0     3.4     1     2  3   \n",
       "302 57     1   0  130      131  0   1       115     1     1.2     1     1  3   \n",
       "303 57     0   1  130      236  0   0       174     0     0.0     1     1  2   \n",
       "    target\n",
       "298 0     \n",
       "299 0     \n",
       "300 0     \n",
       "301 0     \n",
       "302 0     \n",
       "303 0     "
      ]
     },
     "metadata": {},
     "output_type": "display_data"
    }
   ],
   "source": [
    "# Podemos observar las últimas 6 columnas del set de datos\n",
    "tail(heart_df, 6)"
   ]
  },
  {
   "cell_type": "markdown",
   "metadata": {},
   "source": [
    "Para extraer el nombre de las columnas se utiliza la función _colnames()_, la cual recibe el set de datos como parámetro."
   ]
  },
  {
   "cell_type": "code",
   "execution_count": 4,
   "metadata": {
    "scrolled": false
   },
   "outputs": [
    {
     "data": {
      "text/html": [
       "<ol class=list-inline>\n",
       "\t<li>'ï..age'</li>\n",
       "\t<li>'sex'</li>\n",
       "\t<li>'cp'</li>\n",
       "\t<li>'trestbps'</li>\n",
       "\t<li>'chol'</li>\n",
       "\t<li>'fbs'</li>\n",
       "\t<li>'restecg'</li>\n",
       "\t<li>'thalach'</li>\n",
       "\t<li>'exang'</li>\n",
       "\t<li>'oldpeak'</li>\n",
       "\t<li>'slope'</li>\n",
       "\t<li>'ca'</li>\n",
       "\t<li>'thal'</li>\n",
       "\t<li>'target'</li>\n",
       "</ol>\n"
      ],
      "text/latex": [
       "\\begin{enumerate*}\n",
       "\\item 'ï..age'\n",
       "\\item 'sex'\n",
       "\\item 'cp'\n",
       "\\item 'trestbps'\n",
       "\\item 'chol'\n",
       "\\item 'fbs'\n",
       "\\item 'restecg'\n",
       "\\item 'thalach'\n",
       "\\item 'exang'\n",
       "\\item 'oldpeak'\n",
       "\\item 'slope'\n",
       "\\item 'ca'\n",
       "\\item 'thal'\n",
       "\\item 'target'\n",
       "\\end{enumerate*}\n"
      ],
      "text/markdown": [
       "1. 'ï..age'\n",
       "2. 'sex'\n",
       "3. 'cp'\n",
       "4. 'trestbps'\n",
       "5. 'chol'\n",
       "6. 'fbs'\n",
       "7. 'restecg'\n",
       "8. 'thalach'\n",
       "9. 'exang'\n",
       "10. 'oldpeak'\n",
       "11. 'slope'\n",
       "12. 'ca'\n",
       "13. 'thal'\n",
       "14. 'target'\n",
       "\n",
       "\n"
      ],
      "text/plain": [
       " [1] \"ï..age\"   \"sex\"      \"cp\"       \"trestbps\" \"chol\"     \"fbs\"     \n",
       " [7] \"restecg\"  \"thalach\"  \"exang\"    \"oldpeak\"  \"slope\"    \"ca\"      \n",
       "[13] \"thal\"     \"target\"  "
      ]
     },
     "metadata": {},
     "output_type": "display_data"
    }
   ],
   "source": [
    "colnames(heart_df)"
   ]
  },
  {
   "cell_type": "markdown",
   "metadata": {},
   "source": [
    "La función _dim()_ recibe el set de datos como parámetro y retorna las dimensiones en el formato _n_filas_ _n_columnas_."
   ]
  },
  {
   "cell_type": "code",
   "execution_count": 5,
   "metadata": {},
   "outputs": [
    {
     "data": {
      "text/html": [
       "<ol class=list-inline>\n",
       "\t<li>303</li>\n",
       "\t<li>14</li>\n",
       "</ol>\n"
      ],
      "text/latex": [
       "\\begin{enumerate*}\n",
       "\\item 303\n",
       "\\item 14\n",
       "\\end{enumerate*}\n"
      ],
      "text/markdown": [
       "1. 303\n",
       "2. 14\n",
       "\n",
       "\n"
      ],
      "text/plain": [
       "[1] 303  14"
      ]
     },
     "metadata": {},
     "output_type": "display_data"
    }
   ],
   "source": [
    "dim(heart_df)"
   ]
  },
  {
   "cell_type": "markdown",
   "metadata": {},
   "source": [
    "Para acceder a una columna en específico y obtener todos los valores que en ella se encuentran se utiliza el operador _$_ seguido del nombre de la columna. De igual manera se pueden acceder con [ ], especificando dentro de los corchetes el nombre de la columna. "
   ]
  },
  {
   "cell_type": "code",
   "execution_count": 6,
   "metadata": {
    "scrolled": false
   },
   "outputs": [
    {
     "data": {
      "text/html": [
       "<ol class=list-inline>\n",
       "\t<li>1</li>\n",
       "\t<li>1</li>\n",
       "\t<li>0</li>\n",
       "\t<li>1</li>\n",
       "\t<li>0</li>\n",
       "\t<li>1</li>\n",
       "\t<li>0</li>\n",
       "\t<li>1</li>\n",
       "\t<li>1</li>\n",
       "\t<li>1</li>\n",
       "\t<li>1</li>\n",
       "\t<li>0</li>\n",
       "\t<li>1</li>\n",
       "\t<li>1</li>\n",
       "\t<li>0</li>\n",
       "\t<li>0</li>\n",
       "\t<li>0</li>\n",
       "\t<li>0</li>\n",
       "\t<li>1</li>\n",
       "\t<li>0</li>\n",
       "\t<li>1</li>\n",
       "\t<li>1</li>\n",
       "\t<li>1</li>\n",
       "\t<li>1</li>\n",
       "\t<li>1</li>\n",
       "\t<li>0</li>\n",
       "\t<li>1</li>\n",
       "\t<li>1</li>\n",
       "\t<li>0</li>\n",
       "\t<li>1</li>\n",
       "\t<li>0</li>\n",
       "\t<li>1</li>\n",
       "\t<li>1</li>\n",
       "\t<li>1</li>\n",
       "\t<li>1</li>\n",
       "\t<li>0</li>\n",
       "\t<li>0</li>\n",
       "\t<li>1</li>\n",
       "\t<li>0</li>\n",
       "\t<li>0</li>\n",
       "\t<li>0</li>\n",
       "\t<li>1</li>\n",
       "\t<li>1</li>\n",
       "\t<li>0</li>\n",
       "\t<li>1</li>\n",
       "\t<li>1</li>\n",
       "\t<li>1</li>\n",
       "\t<li>1</li>\n",
       "\t<li>0</li>\n",
       "\t<li>0</li>\n",
       "\t<li>0</li>\n",
       "\t<li>1</li>\n",
       "\t<li>1</li>\n",
       "\t<li>0</li>\n",
       "\t<li>0</li>\n",
       "\t<li>1</li>\n",
       "\t<li>1</li>\n",
       "\t<li>1</li>\n",
       "\t<li>1</li>\n",
       "\t<li>0</li>\n",
       "\t<li>0</li>\n",
       "\t<li>1</li>\n",
       "\t<li>1</li>\n",
       "\t<li>1</li>\n",
       "\t<li>1</li>\n",
       "\t<li>0</li>\n",
       "\t<li>1</li>\n",
       "\t<li>0</li>\n",
       "\t<li>1</li>\n",
       "\t<li>0</li>\n",
       "\t<li>1</li>\n",
       "\t<li>1</li>\n",
       "\t<li>1</li>\n",
       "\t<li>1</li>\n",
       "\t<li>0</li>\n",
       "\t<li>0</li>\n",
       "\t<li>1</li>\n",
       "\t<li>1</li>\n",
       "\t<li>1</li>\n",
       "\t<li>1</li>\n",
       "\t<li>1</li>\n",
       "\t<li>1</li>\n",
       "\t<li>0</li>\n",
       "\t<li>1</li>\n",
       "\t<li>0</li>\n",
       "\t<li>0</li>\n",
       "\t<li>1</li>\n",
       "\t<li>1</li>\n",
       "\t<li>0</li>\n",
       "\t<li>0</li>\n",
       "\t<li>1</li>\n",
       "\t<li>1</li>\n",
       "\t<li>1</li>\n",
       "\t<li>0</li>\n",
       "\t<li>0</li>\n",
       "\t<li>1</li>\n",
       "\t<li>0</li>\n",
       "\t<li>1</li>\n",
       "\t<li>1</li>\n",
       "\t<li>1</li>\n",
       "\t<li>1</li>\n",
       "\t<li>1</li>\n",
       "\t<li>0</li>\n",
       "\t<li>1</li>\n",
       "\t<li>1</li>\n",
       "\t<li>0</li>\n",
       "\t<li>1</li>\n",
       "\t<li>0</li>\n",
       "\t<li>0</li>\n",
       "\t<li>0</li>\n",
       "\t<li>0</li>\n",
       "\t<li>1</li>\n",
       "\t<li>0</li>\n",
       "\t<li>1</li>\n",
       "\t<li>1</li>\n",
       "\t<li>0</li>\n",
       "\t<li>1</li>\n",
       "\t<li>1</li>\n",
       "\t<li>0</li>\n",
       "\t<li>0</li>\n",
       "\t<li>0</li>\n",
       "\t<li>1</li>\n",
       "\t<li>0</li>\n",
       "\t<li>0</li>\n",
       "\t<li>0</li>\n",
       "\t<li>0</li>\n",
       "\t<li>1</li>\n",
       "\t<li>0</li>\n",
       "\t<li>0</li>\n",
       "\t<li>0</li>\n",
       "\t<li>0</li>\n",
       "\t<li>0</li>\n",
       "\t<li>1</li>\n",
       "\t<li>1</li>\n",
       "\t<li>0</li>\n",
       "\t<li>0</li>\n",
       "\t<li>0</li>\n",
       "\t<li>1</li>\n",
       "\t<li>1</li>\n",
       "\t<li>1</li>\n",
       "\t<li>0</li>\n",
       "\t<li>1</li>\n",
       "\t<li>0</li>\n",
       "\t<li>0</li>\n",
       "\t<li>0</li>\n",
       "\t<li>1</li>\n",
       "\t<li>0</li>\n",
       "\t<li>0</li>\n",
       "\t<li>1</li>\n",
       "\t<li>1</li>\n",
       "\t<li>1</li>\n",
       "\t<li>0</li>\n",
       "\t<li>1</li>\n",
       "\t<li>0</li>\n",
       "\t<li>0</li>\n",
       "\t<li>0</li>\n",
       "\t<li>1</li>\n",
       "\t<li>1</li>\n",
       "\t<li>1</li>\n",
       "\t<li>1</li>\n",
       "\t<li>1</li>\n",
       "\t<li>0</li>\n",
       "\t<li>1</li>\n",
       "\t<li>1</li>\n",
       "\t<li>1</li>\n",
       "\t<li>1</li>\n",
       "\t<li>1</li>\n",
       "\t<li>0</li>\n",
       "\t<li>1</li>\n",
       "\t<li>1</li>\n",
       "\t<li>1</li>\n",
       "\t<li>1</li>\n",
       "\t<li>1</li>\n",
       "\t<li>1</li>\n",
       "\t<li>1</li>\n",
       "\t<li>1</li>\n",
       "\t<li>1</li>\n",
       "\t<li>1</li>\n",
       "\t<li>1</li>\n",
       "\t<li>1</li>\n",
       "\t<li>1</li>\n",
       "\t<li>0</li>\n",
       "\t<li>0</li>\n",
       "\t<li>1</li>\n",
       "\t<li>1</li>\n",
       "\t<li>1</li>\n",
       "\t<li>1</li>\n",
       "\t<li>1</li>\n",
       "\t<li>1</li>\n",
       "\t<li>1</li>\n",
       "\t<li>0</li>\n",
       "\t<li>1</li>\n",
       "\t<li>1</li>\n",
       "\t<li>1</li>\n",
       "\t<li>1</li>\n",
       "\t<li>1</li>\n",
       "\t<li>1</li>\n",
       "\t<li>1</li>\n",
       "\t<li>1</li>\n",
       "\t<li>1</li>\n",
       "\t<li>1</li>\n",
       "\t<li>1</li>\n",
       "\t<li>1</li>\n",
       "\t<li>1</li>\n",
       "\t<li>0</li>\n",
       "\t<li>1</li>\n",
       "\t<li>1</li>\n",
       "\t<li>0</li>\n",
       "\t<li>1</li>\n",
       "\t<li>1</li>\n",
       "\t<li>1</li>\n",
       "\t<li>1</li>\n",
       "\t<li>1</li>\n",
       "\t<li>0</li>\n",
       "\t<li>1</li>\n",
       "\t<li>0</li>\n",
       "\t<li>0</li>\n",
       "\t<li>1</li>\n",
       "\t<li>1</li>\n",
       "\t<li>1</li>\n",
       "\t<li>0</li>\n",
       "\t<li>1</li>\n",
       "\t<li>1</li>\n",
       "\t<li>0</li>\n",
       "\t<li>1</li>\n",
       "\t<li>1</li>\n",
       "\t<li>1</li>\n",
       "\t<li>1</li>\n",
       "\t<li>1</li>\n",
       "\t<li>1</li>\n",
       "\t<li>1</li>\n",
       "\t<li>1</li>\n",
       "\t<li>1</li>\n",
       "\t<li>1</li>\n",
       "\t<li>1</li>\n",
       "\t<li>1</li>\n",
       "\t<li>1</li>\n",
       "\t<li>1</li>\n",
       "\t<li>1</li>\n",
       "\t<li>1</li>\n",
       "\t<li>1</li>\n",
       "\t<li>0</li>\n",
       "\t<li>1</li>\n",
       "\t<li>1</li>\n",
       "\t<li>1</li>\n",
       "\t<li>1</li>\n",
       "\t<li>0</li>\n",
       "\t<li>1</li>\n",
       "\t<li>1</li>\n",
       "\t<li>1</li>\n",
       "\t<li>1</li>\n",
       "\t<li>1</li>\n",
       "\t<li>0</li>\n",
       "\t<li>1</li>\n",
       "\t<li>1</li>\n",
       "\t<li>1</li>\n",
       "\t<li>1</li>\n",
       "\t<li>1</li>\n",
       "\t<li>0</li>\n",
       "\t<li>1</li>\n",
       "\t<li>0</li>\n",
       "\t<li>1</li>\n",
       "\t<li>1</li>\n",
       "\t<li>0</li>\n",
       "\t<li>1</li>\n",
       "\t<li>1</li>\n",
       "\t<li>0</li>\n",
       "\t<li>1</li>\n",
       "\t<li>1</li>\n",
       "\t<li>1</li>\n",
       "\t<li>1</li>\n",
       "\t<li>1</li>\n",
       "\t<li>1</li>\n",
       "\t<li>1</li>\n",
       "\t<li>1</li>\n",
       "\t<li>1</li>\n",
       "\t<li>1</li>\n",
       "\t<li>1</li>\n",
       "\t<li>0</li>\n",
       "\t<li>1</li>\n",
       "\t<li>1</li>\n",
       "\t<li>1</li>\n",
       "\t<li>1</li>\n",
       "\t<li>1</li>\n",
       "\t<li>1</li>\n",
       "\t<li>1</li>\n",
       "\t<li>1</li>\n",
       "\t<li>1</li>\n",
       "\t<li>1</li>\n",
       "\t<li>0</li>\n",
       "\t<li>1</li>\n",
       "\t<li>1</li>\n",
       "\t<li>0</li>\n",
       "\t<li>1</li>\n",
       "\t<li>1</li>\n",
       "\t<li>1</li>\n",
       "\t<li>0</li>\n",
       "\t<li>1</li>\n",
       "\t<li>0</li>\n",
       "\t<li>1</li>\n",
       "\t<li>1</li>\n",
       "\t<li>1</li>\n",
       "\t<li>0</li>\n",
       "</ol>\n"
      ],
      "text/latex": [
       "\\begin{enumerate*}\n",
       "\\item 1\n",
       "\\item 1\n",
       "\\item 0\n",
       "\\item 1\n",
       "\\item 0\n",
       "\\item 1\n",
       "\\item 0\n",
       "\\item 1\n",
       "\\item 1\n",
       "\\item 1\n",
       "\\item 1\n",
       "\\item 0\n",
       "\\item 1\n",
       "\\item 1\n",
       "\\item 0\n",
       "\\item 0\n",
       "\\item 0\n",
       "\\item 0\n",
       "\\item 1\n",
       "\\item 0\n",
       "\\item 1\n",
       "\\item 1\n",
       "\\item 1\n",
       "\\item 1\n",
       "\\item 1\n",
       "\\item 0\n",
       "\\item 1\n",
       "\\item 1\n",
       "\\item 0\n",
       "\\item 1\n",
       "\\item 0\n",
       "\\item 1\n",
       "\\item 1\n",
       "\\item 1\n",
       "\\item 1\n",
       "\\item 0\n",
       "\\item 0\n",
       "\\item 1\n",
       "\\item 0\n",
       "\\item 0\n",
       "\\item 0\n",
       "\\item 1\n",
       "\\item 1\n",
       "\\item 0\n",
       "\\item 1\n",
       "\\item 1\n",
       "\\item 1\n",
       "\\item 1\n",
       "\\item 0\n",
       "\\item 0\n",
       "\\item 0\n",
       "\\item 1\n",
       "\\item 1\n",
       "\\item 0\n",
       "\\item 0\n",
       "\\item 1\n",
       "\\item 1\n",
       "\\item 1\n",
       "\\item 1\n",
       "\\item 0\n",
       "\\item 0\n",
       "\\item 1\n",
       "\\item 1\n",
       "\\item 1\n",
       "\\item 1\n",
       "\\item 0\n",
       "\\item 1\n",
       "\\item 0\n",
       "\\item 1\n",
       "\\item 0\n",
       "\\item 1\n",
       "\\item 1\n",
       "\\item 1\n",
       "\\item 1\n",
       "\\item 0\n",
       "\\item 0\n",
       "\\item 1\n",
       "\\item 1\n",
       "\\item 1\n",
       "\\item 1\n",
       "\\item 1\n",
       "\\item 1\n",
       "\\item 0\n",
       "\\item 1\n",
       "\\item 0\n",
       "\\item 0\n",
       "\\item 1\n",
       "\\item 1\n",
       "\\item 0\n",
       "\\item 0\n",
       "\\item 1\n",
       "\\item 1\n",
       "\\item 1\n",
       "\\item 0\n",
       "\\item 0\n",
       "\\item 1\n",
       "\\item 0\n",
       "\\item 1\n",
       "\\item 1\n",
       "\\item 1\n",
       "\\item 1\n",
       "\\item 1\n",
       "\\item 0\n",
       "\\item 1\n",
       "\\item 1\n",
       "\\item 0\n",
       "\\item 1\n",
       "\\item 0\n",
       "\\item 0\n",
       "\\item 0\n",
       "\\item 0\n",
       "\\item 1\n",
       "\\item 0\n",
       "\\item 1\n",
       "\\item 1\n",
       "\\item 0\n",
       "\\item 1\n",
       "\\item 1\n",
       "\\item 0\n",
       "\\item 0\n",
       "\\item 0\n",
       "\\item 1\n",
       "\\item 0\n",
       "\\item 0\n",
       "\\item 0\n",
       "\\item 0\n",
       "\\item 1\n",
       "\\item 0\n",
       "\\item 0\n",
       "\\item 0\n",
       "\\item 0\n",
       "\\item 0\n",
       "\\item 1\n",
       "\\item 1\n",
       "\\item 0\n",
       "\\item 0\n",
       "\\item 0\n",
       "\\item 1\n",
       "\\item 1\n",
       "\\item 1\n",
       "\\item 0\n",
       "\\item 1\n",
       "\\item 0\n",
       "\\item 0\n",
       "\\item 0\n",
       "\\item 1\n",
       "\\item 0\n",
       "\\item 0\n",
       "\\item 1\n",
       "\\item 1\n",
       "\\item 1\n",
       "\\item 0\n",
       "\\item 1\n",
       "\\item 0\n",
       "\\item 0\n",
       "\\item 0\n",
       "\\item 1\n",
       "\\item 1\n",
       "\\item 1\n",
       "\\item 1\n",
       "\\item 1\n",
       "\\item 0\n",
       "\\item 1\n",
       "\\item 1\n",
       "\\item 1\n",
       "\\item 1\n",
       "\\item 1\n",
       "\\item 0\n",
       "\\item 1\n",
       "\\item 1\n",
       "\\item 1\n",
       "\\item 1\n",
       "\\item 1\n",
       "\\item 1\n",
       "\\item 1\n",
       "\\item 1\n",
       "\\item 1\n",
       "\\item 1\n",
       "\\item 1\n",
       "\\item 1\n",
       "\\item 1\n",
       "\\item 0\n",
       "\\item 0\n",
       "\\item 1\n",
       "\\item 1\n",
       "\\item 1\n",
       "\\item 1\n",
       "\\item 1\n",
       "\\item 1\n",
       "\\item 1\n",
       "\\item 0\n",
       "\\item 1\n",
       "\\item 1\n",
       "\\item 1\n",
       "\\item 1\n",
       "\\item 1\n",
       "\\item 1\n",
       "\\item 1\n",
       "\\item 1\n",
       "\\item 1\n",
       "\\item 1\n",
       "\\item 1\n",
       "\\item 1\n",
       "\\item 1\n",
       "\\item 0\n",
       "\\item 1\n",
       "\\item 1\n",
       "\\item 0\n",
       "\\item 1\n",
       "\\item 1\n",
       "\\item 1\n",
       "\\item 1\n",
       "\\item 1\n",
       "\\item 0\n",
       "\\item 1\n",
       "\\item 0\n",
       "\\item 0\n",
       "\\item 1\n",
       "\\item 1\n",
       "\\item 1\n",
       "\\item 0\n",
       "\\item 1\n",
       "\\item 1\n",
       "\\item 0\n",
       "\\item 1\n",
       "\\item 1\n",
       "\\item 1\n",
       "\\item 1\n",
       "\\item 1\n",
       "\\item 1\n",
       "\\item 1\n",
       "\\item 1\n",
       "\\item 1\n",
       "\\item 1\n",
       "\\item 1\n",
       "\\item 1\n",
       "\\item 1\n",
       "\\item 1\n",
       "\\item 1\n",
       "\\item 1\n",
       "\\item 1\n",
       "\\item 0\n",
       "\\item 1\n",
       "\\item 1\n",
       "\\item 1\n",
       "\\item 1\n",
       "\\item 0\n",
       "\\item 1\n",
       "\\item 1\n",
       "\\item 1\n",
       "\\item 1\n",
       "\\item 1\n",
       "\\item 0\n",
       "\\item 1\n",
       "\\item 1\n",
       "\\item 1\n",
       "\\item 1\n",
       "\\item 1\n",
       "\\item 0\n",
       "\\item 1\n",
       "\\item 0\n",
       "\\item 1\n",
       "\\item 1\n",
       "\\item 0\n",
       "\\item 1\n",
       "\\item 1\n",
       "\\item 0\n",
       "\\item 1\n",
       "\\item 1\n",
       "\\item 1\n",
       "\\item 1\n",
       "\\item 1\n",
       "\\item 1\n",
       "\\item 1\n",
       "\\item 1\n",
       "\\item 1\n",
       "\\item 1\n",
       "\\item 1\n",
       "\\item 0\n",
       "\\item 1\n",
       "\\item 1\n",
       "\\item 1\n",
       "\\item 1\n",
       "\\item 1\n",
       "\\item 1\n",
       "\\item 1\n",
       "\\item 1\n",
       "\\item 1\n",
       "\\item 1\n",
       "\\item 0\n",
       "\\item 1\n",
       "\\item 1\n",
       "\\item 0\n",
       "\\item 1\n",
       "\\item 1\n",
       "\\item 1\n",
       "\\item 0\n",
       "\\item 1\n",
       "\\item 0\n",
       "\\item 1\n",
       "\\item 1\n",
       "\\item 1\n",
       "\\item 0\n",
       "\\end{enumerate*}\n"
      ],
      "text/markdown": [
       "1. 1\n",
       "2. 1\n",
       "3. 0\n",
       "4. 1\n",
       "5. 0\n",
       "6. 1\n",
       "7. 0\n",
       "8. 1\n",
       "9. 1\n",
       "10. 1\n",
       "11. 1\n",
       "12. 0\n",
       "13. 1\n",
       "14. 1\n",
       "15. 0\n",
       "16. 0\n",
       "17. 0\n",
       "18. 0\n",
       "19. 1\n",
       "20. 0\n",
       "21. 1\n",
       "22. 1\n",
       "23. 1\n",
       "24. 1\n",
       "25. 1\n",
       "26. 0\n",
       "27. 1\n",
       "28. 1\n",
       "29. 0\n",
       "30. 1\n",
       "31. 0\n",
       "32. 1\n",
       "33. 1\n",
       "34. 1\n",
       "35. 1\n",
       "36. 0\n",
       "37. 0\n",
       "38. 1\n",
       "39. 0\n",
       "40. 0\n",
       "41. 0\n",
       "42. 1\n",
       "43. 1\n",
       "44. 0\n",
       "45. 1\n",
       "46. 1\n",
       "47. 1\n",
       "48. 1\n",
       "49. 0\n",
       "50. 0\n",
       "51. 0\n",
       "52. 1\n",
       "53. 1\n",
       "54. 0\n",
       "55. 0\n",
       "56. 1\n",
       "57. 1\n",
       "58. 1\n",
       "59. 1\n",
       "60. 0\n",
       "61. 0\n",
       "62. 1\n",
       "63. 1\n",
       "64. 1\n",
       "65. 1\n",
       "66. 0\n",
       "67. 1\n",
       "68. 0\n",
       "69. 1\n",
       "70. 0\n",
       "71. 1\n",
       "72. 1\n",
       "73. 1\n",
       "74. 1\n",
       "75. 0\n",
       "76. 0\n",
       "77. 1\n",
       "78. 1\n",
       "79. 1\n",
       "80. 1\n",
       "81. 1\n",
       "82. 1\n",
       "83. 0\n",
       "84. 1\n",
       "85. 0\n",
       "86. 0\n",
       "87. 1\n",
       "88. 1\n",
       "89. 0\n",
       "90. 0\n",
       "91. 1\n",
       "92. 1\n",
       "93. 1\n",
       "94. 0\n",
       "95. 0\n",
       "96. 1\n",
       "97. 0\n",
       "98. 1\n",
       "99. 1\n",
       "100. 1\n",
       "101. 1\n",
       "102. 1\n",
       "103. 0\n",
       "104. 1\n",
       "105. 1\n",
       "106. 0\n",
       "107. 1\n",
       "108. 0\n",
       "109. 0\n",
       "110. 0\n",
       "111. 0\n",
       "112. 1\n",
       "113. 0\n",
       "114. 1\n",
       "115. 1\n",
       "116. 0\n",
       "117. 1\n",
       "118. 1\n",
       "119. 0\n",
       "120. 0\n",
       "121. 0\n",
       "122. 1\n",
       "123. 0\n",
       "124. 0\n",
       "125. 0\n",
       "126. 0\n",
       "127. 1\n",
       "128. 0\n",
       "129. 0\n",
       "130. 0\n",
       "131. 0\n",
       "132. 0\n",
       "133. 1\n",
       "134. 1\n",
       "135. 0\n",
       "136. 0\n",
       "137. 0\n",
       "138. 1\n",
       "139. 1\n",
       "140. 1\n",
       "141. 0\n",
       "142. 1\n",
       "143. 0\n",
       "144. 0\n",
       "145. 0\n",
       "146. 1\n",
       "147. 0\n",
       "148. 0\n",
       "149. 1\n",
       "150. 1\n",
       "151. 1\n",
       "152. 0\n",
       "153. 1\n",
       "154. 0\n",
       "155. 0\n",
       "156. 0\n",
       "157. 1\n",
       "158. 1\n",
       "159. 1\n",
       "160. 1\n",
       "161. 1\n",
       "162. 0\n",
       "163. 1\n",
       "164. 1\n",
       "165. 1\n",
       "166. 1\n",
       "167. 1\n",
       "168. 0\n",
       "169. 1\n",
       "170. 1\n",
       "171. 1\n",
       "172. 1\n",
       "173. 1\n",
       "174. 1\n",
       "175. 1\n",
       "176. 1\n",
       "177. 1\n",
       "178. 1\n",
       "179. 1\n",
       "180. 1\n",
       "181. 1\n",
       "182. 0\n",
       "183. 0\n",
       "184. 1\n",
       "185. 1\n",
       "186. 1\n",
       "187. 1\n",
       "188. 1\n",
       "189. 1\n",
       "190. 1\n",
       "191. 0\n",
       "192. 1\n",
       "193. 1\n",
       "194. 1\n",
       "195. 1\n",
       "196. 1\n",
       "197. 1\n",
       "198. 1\n",
       "199. 1\n",
       "200. 1\n",
       "201. 1\n",
       "202. 1\n",
       "203. 1\n",
       "204. 1\n",
       "205. 0\n",
       "206. 1\n",
       "207. 1\n",
       "208. 0\n",
       "209. 1\n",
       "210. 1\n",
       "211. 1\n",
       "212. 1\n",
       "213. 1\n",
       "214. 0\n",
       "215. 1\n",
       "216. 0\n",
       "217. 0\n",
       "218. 1\n",
       "219. 1\n",
       "220. 1\n",
       "221. 0\n",
       "222. 1\n",
       "223. 1\n",
       "224. 0\n",
       "225. 1\n",
       "226. 1\n",
       "227. 1\n",
       "228. 1\n",
       "229. 1\n",
       "230. 1\n",
       "231. 1\n",
       "232. 1\n",
       "233. 1\n",
       "234. 1\n",
       "235. 1\n",
       "236. 1\n",
       "237. 1\n",
       "238. 1\n",
       "239. 1\n",
       "240. 1\n",
       "241. 1\n",
       "242. 0\n",
       "243. 1\n",
       "244. 1\n",
       "245. 1\n",
       "246. 1\n",
       "247. 0\n",
       "248. 1\n",
       "249. 1\n",
       "250. 1\n",
       "251. 1\n",
       "252. 1\n",
       "253. 0\n",
       "254. 1\n",
       "255. 1\n",
       "256. 1\n",
       "257. 1\n",
       "258. 1\n",
       "259. 0\n",
       "260. 1\n",
       "261. 0\n",
       "262. 1\n",
       "263. 1\n",
       "264. 0\n",
       "265. 1\n",
       "266. 1\n",
       "267. 0\n",
       "268. 1\n",
       "269. 1\n",
       "270. 1\n",
       "271. 1\n",
       "272. 1\n",
       "273. 1\n",
       "274. 1\n",
       "275. 1\n",
       "276. 1\n",
       "277. 1\n",
       "278. 1\n",
       "279. 0\n",
       "280. 1\n",
       "281. 1\n",
       "282. 1\n",
       "283. 1\n",
       "284. 1\n",
       "285. 1\n",
       "286. 1\n",
       "287. 1\n",
       "288. 1\n",
       "289. 1\n",
       "290. 0\n",
       "291. 1\n",
       "292. 1\n",
       "293. 0\n",
       "294. 1\n",
       "295. 1\n",
       "296. 1\n",
       "297. 0\n",
       "298. 1\n",
       "299. 0\n",
       "300. 1\n",
       "301. 1\n",
       "302. 1\n",
       "303. 0\n",
       "\n",
       "\n"
      ],
      "text/plain": [
       "  [1] 1 1 0 1 0 1 0 1 1 1 1 0 1 1 0 0 0 0 1 0 1 1 1 1 1 0 1 1 0 1 0 1 1 1 1 0 0\n",
       " [38] 1 0 0 0 1 1 0 1 1 1 1 0 0 0 1 1 0 0 1 1 1 1 0 0 1 1 1 1 0 1 0 1 0 1 1 1 1\n",
       " [75] 0 0 1 1 1 1 1 1 0 1 0 0 1 1 0 0 1 1 1 0 0 1 0 1 1 1 1 1 0 1 1 0 1 0 0 0 0\n",
       "[112] 1 0 1 1 0 1 1 0 0 0 1 0 0 0 0 1 0 0 0 0 0 1 1 0 0 0 1 1 1 0 1 0 0 0 1 0 0\n",
       "[149] 1 1 1 0 1 0 0 0 1 1 1 1 1 0 1 1 1 1 1 0 1 1 1 1 1 1 1 1 1 1 1 1 1 0 0 1 1\n",
       "[186] 1 1 1 1 1 0 1 1 1 1 1 1 1 1 1 1 1 1 1 0 1 1 0 1 1 1 1 1 0 1 0 0 1 1 1 0 1\n",
       "[223] 1 0 1 1 1 1 1 1 1 1 1 1 1 1 1 1 1 1 1 0 1 1 1 1 0 1 1 1 1 1 0 1 1 1 1 1 0\n",
       "[260] 1 0 1 1 0 1 1 0 1 1 1 1 1 1 1 1 1 1 1 0 1 1 1 1 1 1 1 1 1 1 0 1 1 0 1 1 1\n",
       "[297] 0 1 0 1 1 1 0"
      ]
     },
     "metadata": {},
     "output_type": "display_data"
    }
   ],
   "source": [
    "# Se toman los todos los valores de la columna \"sex\" con el operador $\n",
    "heart_df$sex"
   ]
  },
  {
   "cell_type": "code",
   "execution_count": 7,
   "metadata": {
    "scrolled": true
   },
   "outputs": [
    {
     "data": {
      "text/html": [
       "<table>\n",
       "<thead><tr><th scope=col>sex</th></tr></thead>\n",
       "<tbody>\n",
       "\t<tr><td>1</td></tr>\n",
       "\t<tr><td>1</td></tr>\n",
       "\t<tr><td>0</td></tr>\n",
       "\t<tr><td>1</td></tr>\n",
       "\t<tr><td>0</td></tr>\n",
       "\t<tr><td>1</td></tr>\n",
       "\t<tr><td>0</td></tr>\n",
       "\t<tr><td>1</td></tr>\n",
       "\t<tr><td>1</td></tr>\n",
       "\t<tr><td>1</td></tr>\n",
       "\t<tr><td>1</td></tr>\n",
       "\t<tr><td>0</td></tr>\n",
       "\t<tr><td>1</td></tr>\n",
       "\t<tr><td>1</td></tr>\n",
       "\t<tr><td>0</td></tr>\n",
       "\t<tr><td>0</td></tr>\n",
       "\t<tr><td>0</td></tr>\n",
       "\t<tr><td>0</td></tr>\n",
       "\t<tr><td>1</td></tr>\n",
       "\t<tr><td>0</td></tr>\n",
       "\t<tr><td>1</td></tr>\n",
       "\t<tr><td>1</td></tr>\n",
       "\t<tr><td>1</td></tr>\n",
       "\t<tr><td>1</td></tr>\n",
       "\t<tr><td>1</td></tr>\n",
       "\t<tr><td>0</td></tr>\n",
       "\t<tr><td>1</td></tr>\n",
       "\t<tr><td>1</td></tr>\n",
       "\t<tr><td>0</td></tr>\n",
       "\t<tr><td>1</td></tr>\n",
       "\t<tr><td>...</td></tr>\n",
       "\t<tr><td>1</td></tr>\n",
       "\t<tr><td>1</td></tr>\n",
       "\t<tr><td>1</td></tr>\n",
       "\t<tr><td>1</td></tr>\n",
       "\t<tr><td>1</td></tr>\n",
       "\t<tr><td>0</td></tr>\n",
       "\t<tr><td>1</td></tr>\n",
       "\t<tr><td>1</td></tr>\n",
       "\t<tr><td>1</td></tr>\n",
       "\t<tr><td>1</td></tr>\n",
       "\t<tr><td>1</td></tr>\n",
       "\t<tr><td>1</td></tr>\n",
       "\t<tr><td>1</td></tr>\n",
       "\t<tr><td>1</td></tr>\n",
       "\t<tr><td>1</td></tr>\n",
       "\t<tr><td>1</td></tr>\n",
       "\t<tr><td>0</td></tr>\n",
       "\t<tr><td>1</td></tr>\n",
       "\t<tr><td>1</td></tr>\n",
       "\t<tr><td>0</td></tr>\n",
       "\t<tr><td>1</td></tr>\n",
       "\t<tr><td>1</td></tr>\n",
       "\t<tr><td>1</td></tr>\n",
       "\t<tr><td>0</td></tr>\n",
       "\t<tr><td>1</td></tr>\n",
       "\t<tr><td>0</td></tr>\n",
       "\t<tr><td>1</td></tr>\n",
       "\t<tr><td>1</td></tr>\n",
       "\t<tr><td>1</td></tr>\n",
       "\t<tr><td>0</td></tr>\n",
       "</tbody>\n",
       "</table>\n"
      ],
      "text/latex": [
       "\\begin{tabular}{r|l}\n",
       " sex\\\\\n",
       "\\hline\n",
       "\t 1\\\\\n",
       "\t 1\\\\\n",
       "\t 0\\\\\n",
       "\t 1\\\\\n",
       "\t 0\\\\\n",
       "\t 1\\\\\n",
       "\t 0\\\\\n",
       "\t 1\\\\\n",
       "\t 1\\\\\n",
       "\t 1\\\\\n",
       "\t 1\\\\\n",
       "\t 0\\\\\n",
       "\t 1\\\\\n",
       "\t 1\\\\\n",
       "\t 0\\\\\n",
       "\t 0\\\\\n",
       "\t 0\\\\\n",
       "\t 0\\\\\n",
       "\t 1\\\\\n",
       "\t 0\\\\\n",
       "\t 1\\\\\n",
       "\t 1\\\\\n",
       "\t 1\\\\\n",
       "\t 1\\\\\n",
       "\t 1\\\\\n",
       "\t 0\\\\\n",
       "\t 1\\\\\n",
       "\t 1\\\\\n",
       "\t 0\\\\\n",
       "\t 1\\\\\n",
       "\t ...\\\\\n",
       "\t 1\\\\\n",
       "\t 1\\\\\n",
       "\t 1\\\\\n",
       "\t 1\\\\\n",
       "\t 1\\\\\n",
       "\t 0\\\\\n",
       "\t 1\\\\\n",
       "\t 1\\\\\n",
       "\t 1\\\\\n",
       "\t 1\\\\\n",
       "\t 1\\\\\n",
       "\t 1\\\\\n",
       "\t 1\\\\\n",
       "\t 1\\\\\n",
       "\t 1\\\\\n",
       "\t 1\\\\\n",
       "\t 0\\\\\n",
       "\t 1\\\\\n",
       "\t 1\\\\\n",
       "\t 0\\\\\n",
       "\t 1\\\\\n",
       "\t 1\\\\\n",
       "\t 1\\\\\n",
       "\t 0\\\\\n",
       "\t 1\\\\\n",
       "\t 0\\\\\n",
       "\t 1\\\\\n",
       "\t 1\\\\\n",
       "\t 1\\\\\n",
       "\t 0\\\\\n",
       "\\end{tabular}\n"
      ],
      "text/markdown": [
       "\n",
       "| sex |\n",
       "|---|\n",
       "| 1 |\n",
       "| 1 |\n",
       "| 0 |\n",
       "| 1 |\n",
       "| 0 |\n",
       "| 1 |\n",
       "| 0 |\n",
       "| 1 |\n",
       "| 1 |\n",
       "| 1 |\n",
       "| 1 |\n",
       "| 0 |\n",
       "| 1 |\n",
       "| 1 |\n",
       "| 0 |\n",
       "| 0 |\n",
       "| 0 |\n",
       "| 0 |\n",
       "| 1 |\n",
       "| 0 |\n",
       "| 1 |\n",
       "| 1 |\n",
       "| 1 |\n",
       "| 1 |\n",
       "| 1 |\n",
       "| 0 |\n",
       "| 1 |\n",
       "| 1 |\n",
       "| 0 |\n",
       "| 1 |\n",
       "| ... |\n",
       "| 1 |\n",
       "| 1 |\n",
       "| 1 |\n",
       "| 1 |\n",
       "| 1 |\n",
       "| 0 |\n",
       "| 1 |\n",
       "| 1 |\n",
       "| 1 |\n",
       "| 1 |\n",
       "| 1 |\n",
       "| 1 |\n",
       "| 1 |\n",
       "| 1 |\n",
       "| 1 |\n",
       "| 1 |\n",
       "| 0 |\n",
       "| 1 |\n",
       "| 1 |\n",
       "| 0 |\n",
       "| 1 |\n",
       "| 1 |\n",
       "| 1 |\n",
       "| 0 |\n",
       "| 1 |\n",
       "| 0 |\n",
       "| 1 |\n",
       "| 1 |\n",
       "| 1 |\n",
       "| 0 |\n",
       "\n"
      ],
      "text/plain": [
       "    sex\n",
       "1   1  \n",
       "2   1  \n",
       "3   0  \n",
       "4   1  \n",
       "5   0  \n",
       "6   1  \n",
       "7   0  \n",
       "8   1  \n",
       "9   1  \n",
       "10  1  \n",
       "11  1  \n",
       "12  0  \n",
       "13  1  \n",
       "14  1  \n",
       "15  0  \n",
       "16  0  \n",
       "17  0  \n",
       "18  0  \n",
       "19  1  \n",
       "20  0  \n",
       "21  1  \n",
       "22  1  \n",
       "23  1  \n",
       "24  1  \n",
       "25  1  \n",
       "26  0  \n",
       "27  1  \n",
       "28  1  \n",
       "29  0  \n",
       "30  1  \n",
       "... ...\n",
       "274 1  \n",
       "275 1  \n",
       "276 1  \n",
       "277 1  \n",
       "278 1  \n",
       "279 0  \n",
       "280 1  \n",
       "281 1  \n",
       "282 1  \n",
       "283 1  \n",
       "284 1  \n",
       "285 1  \n",
       "286 1  \n",
       "287 1  \n",
       "288 1  \n",
       "289 1  \n",
       "290 0  \n",
       "291 1  \n",
       "292 1  \n",
       "293 0  \n",
       "294 1  \n",
       "295 1  \n",
       "296 1  \n",
       "297 0  \n",
       "298 1  \n",
       "299 0  \n",
       "300 1  \n",
       "301 1  \n",
       "302 1  \n",
       "303 0  "
      ]
     },
     "metadata": {},
     "output_type": "display_data"
    }
   ],
   "source": [
    "# Se toman los todos los valores de la columna \"sex\" con el operador []\n",
    "heart_df[\"sex\"]"
   ]
  },
  {
   "cell_type": "markdown",
   "metadata": {},
   "source": [
    "### 3.2 Análisis Exploratorio "
   ]
  },
  {
   "cell_type": "markdown",
   "metadata": {},
   "source": [
    "Un primer paso en el análisis exploratorio es conocer las estadísticas de los datos. Esto se puede hacer sencillamente con la función _summary()_ la cual recibe como parámetro un set de datos o una columna y retorna el valor máximo, el mínimo, la media y la mediana, así como el valor del primer y tercer cuartil. "
   ]
  },
  {
   "cell_type": "code",
   "execution_count": 8,
   "metadata": {
    "scrolled": true
   },
   "outputs": [
    {
     "data": {
      "text/plain": [
       "     ï..age           sex               cp           trestbps    \n",
       " Min.   :29.00   Min.   :0.0000   Min.   :0.000   Min.   : 94.0  \n",
       " 1st Qu.:47.50   1st Qu.:0.0000   1st Qu.:0.000   1st Qu.:120.0  \n",
       " Median :55.00   Median :1.0000   Median :1.000   Median :130.0  \n",
       " Mean   :54.37   Mean   :0.6832   Mean   :0.967   Mean   :131.6  \n",
       " 3rd Qu.:61.00   3rd Qu.:1.0000   3rd Qu.:2.000   3rd Qu.:140.0  \n",
       " Max.   :77.00   Max.   :1.0000   Max.   :3.000   Max.   :200.0  \n",
       "      chol            fbs            restecg          thalach     \n",
       " Min.   :126.0   Min.   :0.0000   Min.   :0.0000   Min.   : 71.0  \n",
       " 1st Qu.:211.0   1st Qu.:0.0000   1st Qu.:0.0000   1st Qu.:133.5  \n",
       " Median :240.0   Median :0.0000   Median :1.0000   Median :153.0  \n",
       " Mean   :246.3   Mean   :0.1485   Mean   :0.5281   Mean   :149.6  \n",
       " 3rd Qu.:274.5   3rd Qu.:0.0000   3rd Qu.:1.0000   3rd Qu.:166.0  \n",
       " Max.   :564.0   Max.   :1.0000   Max.   :2.0000   Max.   :202.0  \n",
       "     exang           oldpeak         slope             ca        \n",
       " Min.   :0.0000   Min.   :0.00   Min.   :0.000   Min.   :0.0000  \n",
       " 1st Qu.:0.0000   1st Qu.:0.00   1st Qu.:1.000   1st Qu.:0.0000  \n",
       " Median :0.0000   Median :0.80   Median :1.000   Median :0.0000  \n",
       " Mean   :0.3267   Mean   :1.04   Mean   :1.399   Mean   :0.7294  \n",
       " 3rd Qu.:1.0000   3rd Qu.:1.60   3rd Qu.:2.000   3rd Qu.:1.0000  \n",
       " Max.   :1.0000   Max.   :6.20   Max.   :2.000   Max.   :4.0000  \n",
       "      thal           target      \n",
       " Min.   :0.000   Min.   :0.0000  \n",
       " 1st Qu.:2.000   1st Qu.:0.0000  \n",
       " Median :2.000   Median :1.0000  \n",
       " Mean   :2.314   Mean   :0.5446  \n",
       " 3rd Qu.:3.000   3rd Qu.:1.0000  \n",
       " Max.   :3.000   Max.   :1.0000  "
      ]
     },
     "metadata": {},
     "output_type": "display_data"
    }
   ],
   "source": [
    "# Se obtienen las estadísticas de todas las columnas del set de datos\n",
    "summary(heart_df)"
   ]
  },
  {
   "cell_type": "code",
   "execution_count": 9,
   "metadata": {},
   "outputs": [
    {
     "data": {
      "text/plain": [
       "   Min. 1st Qu.  Median    Mean 3rd Qu.    Max. \n",
       "  126.0   211.0   240.0   246.3   274.5   564.0 "
      ]
     },
     "metadata": {},
     "output_type": "display_data"
    }
   ],
   "source": [
    "# Se obtienen las estadísticas de una columna del set de datos\n",
    "summary(heart_df$chol)"
   ]
  },
  {
   "cell_type": "markdown",
   "metadata": {},
   "source": [
    "Del mismo modo, podemos hacer un gráfico de histogramas de todas las columnas para poder observar el comportamiento de los datos. Esto se logra sencillamente con la función _ggplot()_. Para utilizarla, cargamos las bibliotecas correspondientes, las cuales ya están disponibles con el paquete básico de R instalado inicialmente con Conda.\n",
    "\n",
    "https://www.rdocumentation.org/packages/ggplot2/versions/3.2.0/topics/ggplot"
   ]
  },
  {
   "cell_type": "code",
   "execution_count": 10,
   "metadata": {},
   "outputs": [
    {
     "name": "stderr",
     "output_type": "stream",
     "text": [
      "Registered S3 methods overwritten by 'ggplot2':\n",
      "  method         from \n",
      "  [.quosures     rlang\n",
      "  c.quosures     rlang\n",
      "  print.quosures rlang\n",
      "Registered S3 method overwritten by 'rvest':\n",
      "  method            from\n",
      "  read_xml.response xml2\n",
      "-- Attaching packages --------------------------------------- tidyverse 1.2.1 --\n",
      "v ggplot2 3.1.1       v purrr   0.3.2  \n",
      "v tibble  2.1.1       v dplyr   0.8.0.1\n",
      "v tidyr   0.8.3       v stringr 1.4.0  \n",
      "v readr   1.3.1       v forcats 0.4.0  \n",
      "-- Conflicts ------------------------------------------ tidyverse_conflicts() --\n",
      "x dplyr::filter() masks stats::filter()\n",
      "x dplyr::lag()    masks stats::lag()\n",
      "\n",
      "Attaching package: 'reshape2'\n",
      "\n",
      "The following object is masked from 'package:tidyr':\n",
      "\n",
      "    smiths\n",
      "\n"
     ]
    }
   ],
   "source": [
    "library(tidyverse)\n",
    "library(reshape2)"
   ]
  },
  {
   "cell_type": "code",
   "execution_count": 11,
   "metadata": {
    "scrolled": false
   },
   "outputs": [
    {
     "name": "stderr",
     "output_type": "stream",
     "text": [
      "No id variables; using all as measure variables\n"
     ]
    },
    {
     "data": {
      "image/png": "[encoded data removed]",
      "text/plain": [
       "plot without title"
      ]
     },
     "metadata": {},
     "output_type": "display_data"
    }
   ],
   "source": [
    "ggplot(data = melt(heart_df), mapping = aes(x = value)) + \n",
    "    geom_histogram(bins = 30) + facet_wrap(~variable, scales = 'free_x')"
   ]
  },
  {
   "cell_type": "markdown",
   "metadata": {},
   "source": [
    "Como se puede observar en los histogramas anteriores, al igual que en las estadísticas de cada columna, las escalas de los valores para cada columna son diferentes. Usualmente se desea que todos los valores tengan la misma escala, por lo que se va a realizar una normalización para que todas las columnas posean valores entre 0 y 1."
   ]
  },
  {
   "cell_type": "code",
   "execution_count": 12,
   "metadata": {},
   "outputs": [
    {
     "data": {
      "text/plain": [
       "     ï..age            sex               cp            trestbps     \n",
       " Min.   :0.0000   Min.   :0.0000   Min.   :0.0000   Min.   :0.0000  \n",
       " 1st Qu.:0.3854   1st Qu.:0.0000   1st Qu.:0.0000   1st Qu.:0.2453  \n",
       " Median :0.5417   Median :1.0000   Median :0.3333   Median :0.3396  \n",
       " Mean   :0.5285   Mean   :0.6832   Mean   :0.3223   Mean   :0.3549  \n",
       " 3rd Qu.:0.6667   3rd Qu.:1.0000   3rd Qu.:0.6667   3rd Qu.:0.4340  \n",
       " Max.   :1.0000   Max.   :1.0000   Max.   :1.0000   Max.   :1.0000  \n",
       "      chol             fbs            restecg         thalach      \n",
       " Min.   :0.0000   Min.   :0.0000   Min.   :0.000   Min.   :0.0000  \n",
       " 1st Qu.:0.1941   1st Qu.:0.0000   1st Qu.:0.000   1st Qu.:0.4771  \n",
       " Median :0.2603   Median :0.0000   Median :0.500   Median :0.6260  \n",
       " Mean   :0.2746   Mean   :0.1485   Mean   :0.264   Mean   :0.6004  \n",
       " 3rd Qu.:0.3390   3rd Qu.:0.0000   3rd Qu.:0.500   3rd Qu.:0.7252  \n",
       " Max.   :1.0000   Max.   :1.0000   Max.   :1.000   Max.   :1.0000  \n",
       "     exang           oldpeak           slope              ca        \n",
       " Min.   :0.0000   Min.   :0.0000   Min.   :0.0000   Min.   :0.0000  \n",
       " 1st Qu.:0.0000   1st Qu.:0.0000   1st Qu.:0.5000   1st Qu.:0.0000  \n",
       " Median :0.0000   Median :0.1290   Median :0.5000   Median :0.0000  \n",
       " Mean   :0.3267   Mean   :0.1677   Mean   :0.6997   Mean   :0.1823  \n",
       " 3rd Qu.:1.0000   3rd Qu.:0.2581   3rd Qu.:1.0000   3rd Qu.:0.2500  \n",
       " Max.   :1.0000   Max.   :1.0000   Max.   :1.0000   Max.   :1.0000  \n",
       "      thal            target      \n",
       " Min.   :0.0000   Min.   :0.0000  \n",
       " 1st Qu.:0.6667   1st Qu.:0.0000  \n",
       " Median :0.6667   Median :1.0000  \n",
       " Mean   :0.7712   Mean   :0.5446  \n",
       " 3rd Qu.:1.0000   3rd Qu.:1.0000  \n",
       " Max.   :1.0000   Max.   :1.0000  "
      ]
     },
     "metadata": {},
     "output_type": "display_data"
    }
   ],
   "source": [
    "# Realizamos la normalización \n",
    "for(colname in colnames(heart_df))\n",
    "{\n",
    "    col <- heart_df[colname] \n",
    "    col <- col - min(col) \n",
    "    col <- col / max (col)\n",
    "    heart_df[colname]  <- col\n",
    "}\n",
    "\n",
    "# Obtenemos las estadísticas para confirmar que los datos estén en las escalas deseadas.\n",
    "summary(heart_df)"
   ]
  },
  {
   "cell_type": "markdown",
   "metadata": {},
   "source": [
    "Otro paso importante es obtener una matriz de correlación que nos permitirá identificar cuáles variables influyen menos en la variable de salida."
   ]
  },
  {
   "cell_type": "code",
   "execution_count": 13,
   "metadata": {
    "scrolled": false
   },
   "outputs": [
    {
     "data": {
      "text/html": [
       "<table>\n",
       "<thead><tr><th></th><th scope=col>ï..age</th><th scope=col>sex</th><th scope=col>cp</th><th scope=col>trestbps</th><th scope=col>chol</th><th scope=col>fbs</th><th scope=col>restecg</th><th scope=col>thalach</th><th scope=col>exang</th><th scope=col>oldpeak</th><th scope=col>slope</th><th scope=col>ca</th><th scope=col>thal</th><th scope=col>target</th></tr></thead>\n",
       "<tbody>\n",
       "\t<tr><th scope=row>ï..age</th><td> 1.00000000 </td><td>-0.09844660 </td><td>-0.06865302 </td><td> 0.27935091 </td><td> 0.213677957</td><td> 0.121307648</td><td>-0.11621090 </td><td>-0.398521938</td><td> 0.09680083 </td><td> 0.210012567</td><td>-0.16881424 </td><td> 0.27632624 </td><td> 0.06800138 </td><td>-0.22543872 </td></tr>\n",
       "\t<tr><th scope=row>sex</th><td>-0.09844660 </td><td> 1.00000000 </td><td>-0.04935288 </td><td>-0.05676882 </td><td>-0.197912174</td><td> 0.045031789</td><td>-0.05819627 </td><td>-0.044019908</td><td> 0.14166381 </td><td> 0.096092877</td><td>-0.03071057 </td><td> 0.11826141 </td><td> 0.21004110 </td><td>-0.28093658 </td></tr>\n",
       "\t<tr><th scope=row>cp</th><td>-0.06865302 </td><td>-0.04935288 </td><td> 1.00000000 </td><td> 0.04760776 </td><td>-0.076904391</td><td> 0.094444035</td><td> 0.04442059 </td><td> 0.295762125</td><td>-0.39428027 </td><td>-0.149230158</td><td> 0.11971659 </td><td>-0.18105303 </td><td>-0.16173557 </td><td> 0.43379826 </td></tr>\n",
       "\t<tr><th scope=row>trestbps</th><td> 0.27935091 </td><td>-0.05676882 </td><td> 0.04760776 </td><td> 1.00000000 </td><td> 0.123174207</td><td> 0.177530542</td><td>-0.11410279 </td><td>-0.046697728</td><td> 0.06761612 </td><td> 0.193216472</td><td>-0.12147458 </td><td> 0.10138899 </td><td> 0.06220989 </td><td>-0.14493113 </td></tr>\n",
       "\t<tr><th scope=row>chol</th><td> 0.21367796 </td><td>-0.19791217 </td><td>-0.07690439 </td><td> 0.12317421 </td><td> 1.000000000</td><td> 0.013293602</td><td>-0.15104008 </td><td>-0.009939839</td><td> 0.06702278 </td><td> 0.053951920</td><td>-0.00403777 </td><td> 0.07051093 </td><td> 0.09880299 </td><td>-0.08523911 </td></tr>\n",
       "\t<tr><th scope=row>fbs</th><td> 0.12130765 </td><td> 0.04503179 </td><td> 0.09444403 </td><td> 0.17753054 </td><td> 0.013293602</td><td> 1.000000000</td><td>-0.08418905 </td><td>-0.008567107</td><td> 0.02566515 </td><td> 0.005747223</td><td>-0.05989418 </td><td> 0.13797933 </td><td>-0.03201934 </td><td>-0.02804576 </td></tr>\n",
       "\t<tr><th scope=row>restecg</th><td>-0.11621090 </td><td>-0.05819627 </td><td> 0.04442059 </td><td>-0.11410279 </td><td>-0.151040078</td><td>-0.084189054</td><td> 1.00000000 </td><td> 0.044123444</td><td>-0.07073286 </td><td>-0.058770226</td><td> 0.09304482 </td><td>-0.07204243 </td><td>-0.01198140 </td><td> 0.13722950 </td></tr>\n",
       "\t<tr><th scope=row>thalach</th><td>-0.39852194 </td><td>-0.04401991 </td><td> 0.29576212 </td><td>-0.04669773 </td><td>-0.009939839</td><td>-0.008567107</td><td> 0.04412344 </td><td> 1.000000000</td><td>-0.37881209 </td><td>-0.344186948</td><td> 0.38678441 </td><td>-0.21317693 </td><td>-0.09643913 </td><td> 0.42174093 </td></tr>\n",
       "\t<tr><th scope=row>exang</th><td> 0.09680083 </td><td> 0.14166381 </td><td>-0.39428027 </td><td> 0.06761612 </td><td> 0.067022783</td><td> 0.025665147</td><td>-0.07073286 </td><td>-0.378812094</td><td> 1.00000000 </td><td> 0.288222808</td><td>-0.25774837 </td><td> 0.11573938 </td><td> 0.20675379 </td><td>-0.43675708 </td></tr>\n",
       "\t<tr><th scope=row>oldpeak</th><td> 0.21001257 </td><td> 0.09609288 </td><td>-0.14923016 </td><td> 0.19321647 </td><td> 0.053951920</td><td> 0.005747223</td><td>-0.05877023 </td><td>-0.344186948</td><td> 0.28822281 </td><td> 1.000000000</td><td>-0.57753682 </td><td> 0.22268232 </td><td> 0.21024413 </td><td>-0.43069600 </td></tr>\n",
       "\t<tr><th scope=row>slope</th><td>-0.16881424 </td><td>-0.03071057 </td><td> 0.11971659 </td><td>-0.12147458 </td><td>-0.004037770</td><td>-0.059894178</td><td> 0.09304482 </td><td> 0.386784410</td><td>-0.25774837 </td><td>-0.577536817</td><td> 1.00000000 </td><td>-0.08015521 </td><td>-0.10476379 </td><td> 0.34587708 </td></tr>\n",
       "\t<tr><th scope=row>ca</th><td> 0.27632624 </td><td> 0.11826141 </td><td>-0.18105303 </td><td> 0.10138899 </td><td> 0.070510925</td><td> 0.137979327</td><td>-0.07204243 </td><td>-0.213176928</td><td> 0.11573938 </td><td> 0.222682322</td><td>-0.08015521 </td><td> 1.00000000 </td><td> 0.15183213 </td><td>-0.39172399 </td></tr>\n",
       "\t<tr><th scope=row>thal</th><td> 0.06800138 </td><td> 0.21004110 </td><td>-0.16173557 </td><td> 0.06220989 </td><td> 0.098802993</td><td>-0.032019339</td><td>-0.01198140 </td><td>-0.096439132</td><td> 0.20675379 </td><td> 0.210244126</td><td>-0.10476379 </td><td> 0.15183213 </td><td> 1.00000000 </td><td>-0.34402927 </td></tr>\n",
       "\t<tr><th scope=row>target</th><td>-0.22543872 </td><td>-0.28093658 </td><td> 0.43379826 </td><td>-0.14493113 </td><td>-0.085239105</td><td>-0.028045760</td><td> 0.13722950 </td><td> 0.421740934</td><td>-0.43675708 </td><td>-0.430696002</td><td> 0.34587708 </td><td>-0.39172399 </td><td>-0.34402927 </td><td> 1.00000000 </td></tr>\n",
       "</tbody>\n",
       "</table>\n"
      ],
      "text/latex": [
       "\\begin{tabular}{r|llllllllllllll}\n",
       "  & ï..age & sex & cp & trestbps & chol & fbs & restecg & thalach & exang & oldpeak & slope & ca & thal & target\\\\\n",
       "\\hline\n",
       "\tï..age &  1.00000000  & -0.09844660  & -0.06865302  &  0.27935091  &  0.213677957 &  0.121307648 & -0.11621090  & -0.398521938 &  0.09680083  &  0.210012567 & -0.16881424  &  0.27632624  &  0.06800138  & -0.22543872 \\\\\n",
       "\tsex & -0.09844660  &  1.00000000  & -0.04935288  & -0.05676882  & -0.197912174 &  0.045031789 & -0.05819627  & -0.044019908 &  0.14166381  &  0.096092877 & -0.03071057  &  0.11826141  &  0.21004110  & -0.28093658 \\\\\n",
       "\tcp & -0.06865302  & -0.04935288  &  1.00000000  &  0.04760776  & -0.076904391 &  0.094444035 &  0.04442059  &  0.295762125 & -0.39428027  & -0.149230158 &  0.11971659  & -0.18105303  & -0.16173557  &  0.43379826 \\\\\n",
       "\ttrestbps &  0.27935091  & -0.05676882  &  0.04760776  &  1.00000000  &  0.123174207 &  0.177530542 & -0.11410279  & -0.046697728 &  0.06761612  &  0.193216472 & -0.12147458  &  0.10138899  &  0.06220989  & -0.14493113 \\\\\n",
       "\tchol &  0.21367796  & -0.19791217  & -0.07690439  &  0.12317421  &  1.000000000 &  0.013293602 & -0.15104008  & -0.009939839 &  0.06702278  &  0.053951920 & -0.00403777  &  0.07051093  &  0.09880299  & -0.08523911 \\\\\n",
       "\tfbs &  0.12130765  &  0.04503179  &  0.09444403  &  0.17753054  &  0.013293602 &  1.000000000 & -0.08418905  & -0.008567107 &  0.02566515  &  0.005747223 & -0.05989418  &  0.13797933  & -0.03201934  & -0.02804576 \\\\\n",
       "\trestecg & -0.11621090  & -0.05819627  &  0.04442059  & -0.11410279  & -0.151040078 & -0.084189054 &  1.00000000  &  0.044123444 & -0.07073286  & -0.058770226 &  0.09304482  & -0.07204243  & -0.01198140  &  0.13722950 \\\\\n",
       "\tthalach & -0.39852194  & -0.04401991  &  0.29576212  & -0.04669773  & -0.009939839 & -0.008567107 &  0.04412344  &  1.000000000 & -0.37881209  & -0.344186948 &  0.38678441  & -0.21317693  & -0.09643913  &  0.42174093 \\\\\n",
       "\texang &  0.09680083  &  0.14166381  & -0.39428027  &  0.06761612  &  0.067022783 &  0.025665147 & -0.07073286  & -0.378812094 &  1.00000000  &  0.288222808 & -0.25774837  &  0.11573938  &  0.20675379  & -0.43675708 \\\\\n",
       "\toldpeak &  0.21001257  &  0.09609288  & -0.14923016  &  0.19321647  &  0.053951920 &  0.005747223 & -0.05877023  & -0.344186948 &  0.28822281  &  1.000000000 & -0.57753682  &  0.22268232  &  0.21024413  & -0.43069600 \\\\\n",
       "\tslope & -0.16881424  & -0.03071057  &  0.11971659  & -0.12147458  & -0.004037770 & -0.059894178 &  0.09304482  &  0.386784410 & -0.25774837  & -0.577536817 &  1.00000000  & -0.08015521  & -0.10476379  &  0.34587708 \\\\\n",
       "\tca &  0.27632624  &  0.11826141  & -0.18105303  &  0.10138899  &  0.070510925 &  0.137979327 & -0.07204243  & -0.213176928 &  0.11573938  &  0.222682322 & -0.08015521  &  1.00000000  &  0.15183213  & -0.39172399 \\\\\n",
       "\tthal &  0.06800138  &  0.21004110  & -0.16173557  &  0.06220989  &  0.098802993 & -0.032019339 & -0.01198140  & -0.096439132 &  0.20675379  &  0.210244126 & -0.10476379  &  0.15183213  &  1.00000000  & -0.34402927 \\\\\n",
       "\ttarget & -0.22543872  & -0.28093658  &  0.43379826  & -0.14493113  & -0.085239105 & -0.028045760 &  0.13722950  &  0.421740934 & -0.43675708  & -0.430696002 &  0.34587708  & -0.39172399  & -0.34402927  &  1.00000000 \\\\\n",
       "\\end{tabular}\n"
      ],
      "text/markdown": [
       "\n",
       "| <!--/--> | ï..age | sex | cp | trestbps | chol | fbs | restecg | thalach | exang | oldpeak | slope | ca | thal | target |\n",
       "|---|---|---|---|---|---|---|---|---|---|---|---|---|---|---|\n",
       "| ï..age |  1.00000000  | -0.09844660  | -0.06865302  |  0.27935091  |  0.213677957 |  0.121307648 | -0.11621090  | -0.398521938 |  0.09680083  |  0.210012567 | -0.16881424  |  0.27632624  |  0.06800138  | -0.22543872  |\n",
       "| sex | -0.09844660  |  1.00000000  | -0.04935288  | -0.05676882  | -0.197912174 |  0.045031789 | -0.05819627  | -0.044019908 |  0.14166381  |  0.096092877 | -0.03071057  |  0.11826141  |  0.21004110  | -0.28093658  |\n",
       "| cp | -0.06865302  | -0.04935288  |  1.00000000  |  0.04760776  | -0.076904391 |  0.094444035 |  0.04442059  |  0.295762125 | -0.39428027  | -0.149230158 |  0.11971659  | -0.18105303  | -0.16173557  |  0.43379826  |\n",
       "| trestbps |  0.27935091  | -0.05676882  |  0.04760776  |  1.00000000  |  0.123174207 |  0.177530542 | -0.11410279  | -0.046697728 |  0.06761612  |  0.193216472 | -0.12147458  |  0.10138899  |  0.06220989  | -0.14493113  |\n",
       "| chol |  0.21367796  | -0.19791217  | -0.07690439  |  0.12317421  |  1.000000000 |  0.013293602 | -0.15104008  | -0.009939839 |  0.06702278  |  0.053951920 | -0.00403777  |  0.07051093  |  0.09880299  | -0.08523911  |\n",
       "| fbs |  0.12130765  |  0.04503179  |  0.09444403  |  0.17753054  |  0.013293602 |  1.000000000 | -0.08418905  | -0.008567107 |  0.02566515  |  0.005747223 | -0.05989418  |  0.13797933  | -0.03201934  | -0.02804576  |\n",
       "| restecg | -0.11621090  | -0.05819627  |  0.04442059  | -0.11410279  | -0.151040078 | -0.084189054 |  1.00000000  |  0.044123444 | -0.07073286  | -0.058770226 |  0.09304482  | -0.07204243  | -0.01198140  |  0.13722950  |\n",
       "| thalach | -0.39852194  | -0.04401991  |  0.29576212  | -0.04669773  | -0.009939839 | -0.008567107 |  0.04412344  |  1.000000000 | -0.37881209  | -0.344186948 |  0.38678441  | -0.21317693  | -0.09643913  |  0.42174093  |\n",
       "| exang |  0.09680083  |  0.14166381  | -0.39428027  |  0.06761612  |  0.067022783 |  0.025665147 | -0.07073286  | -0.378812094 |  1.00000000  |  0.288222808 | -0.25774837  |  0.11573938  |  0.20675379  | -0.43675708  |\n",
       "| oldpeak |  0.21001257  |  0.09609288  | -0.14923016  |  0.19321647  |  0.053951920 |  0.005747223 | -0.05877023  | -0.344186948 |  0.28822281  |  1.000000000 | -0.57753682  |  0.22268232  |  0.21024413  | -0.43069600  |\n",
       "| slope | -0.16881424  | -0.03071057  |  0.11971659  | -0.12147458  | -0.004037770 | -0.059894178 |  0.09304482  |  0.386784410 | -0.25774837  | -0.577536817 |  1.00000000  | -0.08015521  | -0.10476379  |  0.34587708  |\n",
       "| ca |  0.27632624  |  0.11826141  | -0.18105303  |  0.10138899  |  0.070510925 |  0.137979327 | -0.07204243  | -0.213176928 |  0.11573938  |  0.222682322 | -0.08015521  |  1.00000000  |  0.15183213  | -0.39172399  |\n",
       "| thal |  0.06800138  |  0.21004110  | -0.16173557  |  0.06220989  |  0.098802993 | -0.032019339 | -0.01198140  | -0.096439132 |  0.20675379  |  0.210244126 | -0.10476379  |  0.15183213  |  1.00000000  | -0.34402927  |\n",
       "| target | -0.22543872  | -0.28093658  |  0.43379826  | -0.14493113  | -0.085239105 | -0.028045760 |  0.13722950  |  0.421740934 | -0.43675708  | -0.430696002 |  0.34587708  | -0.39172399  | -0.34402927  |  1.00000000  |\n",
       "\n"
      ],
      "text/plain": [
       "         ï..age      sex         cp          trestbps    chol        \n",
       "ï..age    1.00000000 -0.09844660 -0.06865302  0.27935091  0.213677957\n",
       "sex      -0.09844660  1.00000000 -0.04935288 -0.05676882 -0.197912174\n",
       "cp       -0.06865302 -0.04935288  1.00000000  0.04760776 -0.076904391\n",
       "trestbps  0.27935091 -0.05676882  0.04760776  1.00000000  0.123174207\n",
       "chol      0.21367796 -0.19791217 -0.07690439  0.12317421  1.000000000\n",
       "fbs       0.12130765  0.04503179  0.09444403  0.17753054  0.013293602\n",
       "restecg  -0.11621090 -0.05819627  0.04442059 -0.11410279 -0.151040078\n",
       "thalach  -0.39852194 -0.04401991  0.29576212 -0.04669773 -0.009939839\n",
       "exang     0.09680083  0.14166381 -0.39428027  0.06761612  0.067022783\n",
       "oldpeak   0.21001257  0.09609288 -0.14923016  0.19321647  0.053951920\n",
       "slope    -0.16881424 -0.03071057  0.11971659 -0.12147458 -0.004037770\n",
       "ca        0.27632624  0.11826141 -0.18105303  0.10138899  0.070510925\n",
       "thal      0.06800138  0.21004110 -0.16173557  0.06220989  0.098802993\n",
       "target   -0.22543872 -0.28093658  0.43379826 -0.14493113 -0.085239105\n",
       "         fbs          restecg     thalach      exang       oldpeak     \n",
       "ï..age    0.121307648 -0.11621090 -0.398521938  0.09680083  0.210012567\n",
       "sex       0.045031789 -0.05819627 -0.044019908  0.14166381  0.096092877\n",
       "cp        0.094444035  0.04442059  0.295762125 -0.39428027 -0.149230158\n",
       "trestbps  0.177530542 -0.11410279 -0.046697728  0.06761612  0.193216472\n",
       "chol      0.013293602 -0.15104008 -0.009939839  0.06702278  0.053951920\n",
       "fbs       1.000000000 -0.08418905 -0.008567107  0.02566515  0.005747223\n",
       "restecg  -0.084189054  1.00000000  0.044123444 -0.07073286 -0.058770226\n",
       "thalach  -0.008567107  0.04412344  1.000000000 -0.37881209 -0.344186948\n",
       "exang     0.025665147 -0.07073286 -0.378812094  1.00000000  0.288222808\n",
       "oldpeak   0.005747223 -0.05877023 -0.344186948  0.28822281  1.000000000\n",
       "slope    -0.059894178  0.09304482  0.386784410 -0.25774837 -0.577536817\n",
       "ca        0.137979327 -0.07204243 -0.213176928  0.11573938  0.222682322\n",
       "thal     -0.032019339 -0.01198140 -0.096439132  0.20675379  0.210244126\n",
       "target   -0.028045760  0.13722950  0.421740934 -0.43675708 -0.430696002\n",
       "         slope       ca          thal        target     \n",
       "ï..age   -0.16881424  0.27632624  0.06800138 -0.22543872\n",
       "sex      -0.03071057  0.11826141  0.21004110 -0.28093658\n",
       "cp        0.11971659 -0.18105303 -0.16173557  0.43379826\n",
       "trestbps -0.12147458  0.10138899  0.06220989 -0.14493113\n",
       "chol     -0.00403777  0.07051093  0.09880299 -0.08523911\n",
       "fbs      -0.05989418  0.13797933 -0.03201934 -0.02804576\n",
       "restecg   0.09304482 -0.07204243 -0.01198140  0.13722950\n",
       "thalach   0.38678441 -0.21317693 -0.09643913  0.42174093\n",
       "exang    -0.25774837  0.11573938  0.20675379 -0.43675708\n",
       "oldpeak  -0.57753682  0.22268232  0.21024413 -0.43069600\n",
       "slope     1.00000000 -0.08015521 -0.10476379  0.34587708\n",
       "ca       -0.08015521  1.00000000  0.15183213 -0.39172399\n",
       "thal     -0.10476379  0.15183213  1.00000000 -0.34402927\n",
       "target    0.34587708 -0.39172399 -0.34402927  1.00000000"
      ]
     },
     "metadata": {},
     "output_type": "display_data"
    }
   ],
   "source": [
    "# Obtenemos la matriz de correlación\n",
    "cor_mat <- data.frame(cor(heart_df))\n",
    "cor_mat"
   ]
  },
  {
   "cell_type": "markdown",
   "metadata": {},
   "source": [
    "En este caso, la columna de interés es _target_ por lo que nos interesa principalmene la correlación de las demás columnas con respecto a esta."
   ]
  },
  {
   "cell_type": "code",
   "execution_count": 14,
   "metadata": {
    "scrolled": false
   },
   "outputs": [
    {
     "data": {
      "text/html": [
       "<table>\n",
       "<thead><tr><th></th><th scope=col>target</th></tr></thead>\n",
       "<tbody>\n",
       "\t<tr><th scope=row>ï..age</th><td>-0.22543872</td></tr>\n",
       "\t<tr><th scope=row>sex</th><td>-0.28093658</td></tr>\n",
       "\t<tr><th scope=row>cp</th><td> 0.43379826</td></tr>\n",
       "\t<tr><th scope=row>trestbps</th><td>-0.14493113</td></tr>\n",
       "\t<tr><th scope=row>chol</th><td>-0.08523911</td></tr>\n",
       "\t<tr><th scope=row>fbs</th><td>-0.02804576</td></tr>\n",
       "\t<tr><th scope=row>restecg</th><td> 0.13722950</td></tr>\n",
       "\t<tr><th scope=row>thalach</th><td> 0.42174093</td></tr>\n",
       "\t<tr><th scope=row>exang</th><td>-0.43675708</td></tr>\n",
       "\t<tr><th scope=row>oldpeak</th><td>-0.43069600</td></tr>\n",
       "\t<tr><th scope=row>slope</th><td> 0.34587708</td></tr>\n",
       "\t<tr><th scope=row>ca</th><td>-0.39172399</td></tr>\n",
       "\t<tr><th scope=row>thal</th><td>-0.34402927</td></tr>\n",
       "\t<tr><th scope=row>target</th><td> 1.00000000</td></tr>\n",
       "</tbody>\n",
       "</table>\n"
      ],
      "text/latex": [
       "\\begin{tabular}{r|l}\n",
       "  & target\\\\\n",
       "\\hline\n",
       "\tï..age & -0.22543872\\\\\n",
       "\tsex & -0.28093658\\\\\n",
       "\tcp &  0.43379826\\\\\n",
       "\ttrestbps & -0.14493113\\\\\n",
       "\tchol & -0.08523911\\\\\n",
       "\tfbs & -0.02804576\\\\\n",
       "\trestecg &  0.13722950\\\\\n",
       "\tthalach &  0.42174093\\\\\n",
       "\texang & -0.43675708\\\\\n",
       "\toldpeak & -0.43069600\\\\\n",
       "\tslope &  0.34587708\\\\\n",
       "\tca & -0.39172399\\\\\n",
       "\tthal & -0.34402927\\\\\n",
       "\ttarget &  1.00000000\\\\\n",
       "\\end{tabular}\n"
      ],
      "text/markdown": [
       "\n",
       "| <!--/--> | target |\n",
       "|---|---|\n",
       "| ï..age | -0.22543872 |\n",
       "| sex | -0.28093658 |\n",
       "| cp |  0.43379826 |\n",
       "| trestbps | -0.14493113 |\n",
       "| chol | -0.08523911 |\n",
       "| fbs | -0.02804576 |\n",
       "| restecg |  0.13722950 |\n",
       "| thalach |  0.42174093 |\n",
       "| exang | -0.43675708 |\n",
       "| oldpeak | -0.43069600 |\n",
       "| slope |  0.34587708 |\n",
       "| ca | -0.39172399 |\n",
       "| thal | -0.34402927 |\n",
       "| target |  1.00000000 |\n",
       "\n"
      ],
      "text/plain": [
       "         target     \n",
       "ï..age   -0.22543872\n",
       "sex      -0.28093658\n",
       "cp        0.43379826\n",
       "trestbps -0.14493113\n",
       "chol     -0.08523911\n",
       "fbs      -0.02804576\n",
       "restecg   0.13722950\n",
       "thalach   0.42174093\n",
       "exang    -0.43675708\n",
       "oldpeak  -0.43069600\n",
       "slope     0.34587708\n",
       "ca       -0.39172399\n",
       "thal     -0.34402927\n",
       "target    1.00000000"
      ]
     },
     "metadata": {},
     "output_type": "display_data"
    }
   ],
   "source": [
    "# Obtenemos la correlación con respecto a la columna target\n",
    "cor_target <- cor_mat[\"target\"]\n",
    "cor_target\n"
   ]
  },
  {
   "cell_type": "markdown",
   "metadata": {},
   "source": [
    "Por medio de la biblioteca _FactoMineR_ se puede hacer un análisis más gráfico de los valores de correlación obtenidos.\n",
    "\n",
    "Conda no tiene soporte para esta biblioteca, por lo que la instalamos manualmente mediante el comando _install.packages_"
   ]
  },
  {
   "cell_type": "code",
   "execution_count": 15,
   "metadata": {},
   "outputs": [],
   "source": [
    "#install.packages('FactoMineR')"
   ]
  },
  {
   "cell_type": "markdown",
   "metadata": {},
   "source": [
    "Cargamos la biblioteca para su uso"
   ]
  },
  {
   "cell_type": "code",
   "execution_count": 16,
   "metadata": {},
   "outputs": [
    {
     "name": "stderr",
     "output_type": "stream",
     "text": [
      "Warning message:\n",
      "\"package 'FactoMineR' was built under R version 3.6.1\""
     ]
    }
   ],
   "source": [
    "library(FactoMineR)"
   ]
  },
  {
   "cell_type": "code",
   "execution_count": 17,
   "metadata": {},
   "outputs": [],
   "source": [
    "pca_heart <- PCA(heart_df,graph=FALSE)"
   ]
  },
  {
   "cell_type": "markdown",
   "metadata": {},
   "source": [
    "Se puede obtener el círculo de correlación de la siguiente manera."
   ]
  },
  {
   "cell_type": "code",
   "execution_count": 18,
   "metadata": {
    "scrolled": false
   },
   "outputs": [
    {
     "data": {
      "image/png": "[encoded data removed]",
      "text/plain": [
       "Plot with title \"Variables factor map (PCA)\""
      ]
     },
     "metadata": {},
     "output_type": "display_data"
    }
   ],
   "source": [
    "plot(pca_heart,choix=\"var\",invisible=\"quanti.sup\")"
   ]
  },
  {
   "cell_type": "markdown",
   "metadata": {},
   "source": [
    "Este círculo nos permite observar gráficamente la correlación que tienen todas las variables entre ellas. La interpretación del gráfico se basa en el ángulo entre los vectores (que representan cada columna del data set), en este caso el análisis se da con respecto al vector _target_, ya que es el parámetro de interés. \n",
    "\n",
    "Podemos apreciar cómo los vectores con menor ángulo, y por lo tanto los más cercanos al vector _target_, son aquellos que presentan una alta correlación con la variable en cuestión. En este grupo podemos incluir a los vectores _cp_, _thalach_ y _slope_. Por su parte, aquellos con un ángulo más llano (cercano a 180°) son los que presentan una correlación negativa con el vector _target_ en este grupo se tienen los vectores _exang_, _thal_, _oldpeak_, _ca_ y _sex_. El resto de vectores, los que poseen un ángulo más recto (90°) con respecto a _target_, son los que no presentan correlación con dicho vector, y por lo tanto su inclusión en un análisis no representa un impacto significativo en el modelo."
   ]
  },
  {
   "cell_type": "markdown",
   "metadata": {},
   "source": [
    "Del mismo modo, la biblioteca _FactoMineR_ permite hacer una gráfica de todas las entradas del set de datos, ubicándoles en el mismo plano que el círculo de correlaciones presentado anteriormente, lo cual nos permite ubicar cada uno de estos y asociarlos directamente con cada columna al superponer ambos gráficos. "
   ]
  },
  {
   "cell_type": "code",
   "execution_count": 19,
   "metadata": {},
   "outputs": [
    {
     "data": {
      "image/png": "[encoded data removed]",
      "text/plain": [
       "Plot with title \"Individuals factor map (PCA)\""
      ]
     },
     "metadata": {},
     "output_type": "display_data"
    }
   ],
   "source": [
    "plot(pca_heart,choix=\"ind\")"
   ]
  },
  {
   "cell_type": "markdown",
   "metadata": {},
   "source": [
    "En este gráfico se presenta una disposición de cada individuo del set de datos desde la misma perspectiva que se utilizó para el círculo de correlaciones. Esto quiere decir que existe una correspondencia entre los individuos y los features del círculo de correlaciones, en tanto a su cercanía al superponer ambos gráficos.\n",
    "\n",
    "Esto nos permite agrupar los individuos según sus atributos más representativos, lo cual nos provee de una caracterización visual del set de datos."
   ]
  },
  {
   "cell_type": "markdown",
   "metadata": {},
   "source": [
    "### 3.3 Limpiando un set de datos"
   ]
  },
  {
   "cell_type": "markdown",
   "metadata": {},
   "source": [
    "Para el set de datos a utilizar en secciones posteriores, se procede a eliminar aquellas columnas cuya correlación con la columna target sea menor del 20%. \n"
   ]
  },
  {
   "cell_type": "code",
   "execution_count": 20,
   "metadata": {},
   "outputs": [],
   "source": [
    "features <- heart_df[c('ï..age','sex','cp', 'thalach', 'exang', 'oldpeak', 'slope', 'ca', 'thal')]\n",
    "label <- heart_df[\"target\"]"
   ]
  },
  {
   "cell_type": "markdown",
   "metadata": {},
   "source": [
    "El set de datos escogido en este notebook no requirió gran esfuerzo para realizar la limpieza del mismo. Esto porque este conjunto no contiene valores faltantes o nulos. En casos diferentes, donde los datos no sean apropiados, se puede realizar distintas operaciones de limpieza. Por ejemplo, se puede eliminar las filas o columnas que contengan valores faltantes, o se puede reemplazar los valores faltantes o nulos de por la media o mediana en la columna. R permite realizar este tipo de acciones con comandos sencillos.\n",
    "\n",
    "A continuación se realiza un ejemplo de algunas de las posibles acciones a realizar cuando se tiene valores faltantes o nulos; para ello se creará un dataframe desde cero con valores no representativos."
   ]
  },
  {
   "cell_type": "code",
   "execution_count": 21,
   "metadata": {
    "scrolled": true
   },
   "outputs": [
    {
     "data": {
      "text/html": [
       "<table>\n",
       "<thead><tr><th scope=col>a</th><th scope=col>b</th><th scope=col>c</th><th scope=col>d</th><th scope=col>e</th></tr></thead>\n",
       "<tbody>\n",
       "\t<tr><td>15  </td><td>0.20</td><td> 1  </td><td>4   </td><td> 14 </td></tr>\n",
       "\t<tr><td>31  </td><td>0.40</td><td> 1  </td><td>3   </td><td> 22 </td></tr>\n",
       "\t<tr><td>22  </td><td> NaN</td><td> 0  </td><td>1   </td><td>  8 </td></tr>\n",
       "\t<tr><td>77  </td><td>0.99</td><td> 0  </td><td>1   </td><td>NaN </td></tr>\n",
       "\t<tr><td>53  </td><td>0.64</td><td>NA  </td><td>0   </td><td>  1 </td></tr>\n",
       "\t<tr><td>47  </td><td>0.08</td><td> 0  </td><td>5   </td><td> 44 </td></tr>\n",
       "</tbody>\n",
       "</table>\n"
      ],
      "text/latex": [
       "\\begin{tabular}{r|lllll}\n",
       " a & b & c & d & e\\\\\n",
       "\\hline\n",
       "\t 15   & 0.20 &  1   & 4    &  14 \\\\\n",
       "\t 31   & 0.40 &  1   & 3    &  22 \\\\\n",
       "\t 22   &  NaN &  0   & 1    &   8 \\\\\n",
       "\t 77   & 0.99 &  0   & 1    & NaN \\\\\n",
       "\t 53   & 0.64 & NA   & 0    &   1 \\\\\n",
       "\t 47   & 0.08 &  0   & 5    &  44 \\\\\n",
       "\\end{tabular}\n"
      ],
      "text/markdown": [
       "\n",
       "| a | b | c | d | e |\n",
       "|---|---|---|---|---|\n",
       "| 15   | 0.20 |  1   | 4    |  14  |\n",
       "| 31   | 0.40 |  1   | 3    |  22  |\n",
       "| 22   |  NaN |  0   | 1    |   8  |\n",
       "| 77   | 0.99 |  0   | 1    | NaN  |\n",
       "| 53   | 0.64 | NA   | 0    |   1  |\n",
       "| 47   | 0.08 |  0   | 5    |  44  |\n",
       "\n"
      ],
      "text/plain": [
       "  a  b    c  d e  \n",
       "1 15 0.20  1 4  14\n",
       "2 31 0.40  1 3  22\n",
       "3 22  NaN  0 1   8\n",
       "4 77 0.99  0 1 NaN\n",
       "5 53 0.64 NA 0   1\n",
       "6 47 0.08  0 5  44"
      ]
     },
     "metadata": {},
     "output_type": "display_data"
    }
   ],
   "source": [
    "# Creamos un set de datos con valores faltantes.\n",
    "a = c(15, 31, 22, 77, 53, 47)\n",
    "b = c(0.2, 0.4, NaN, 0.99, 0.64, 0.08)\n",
    "c = c(1, 1, 0, 0, NA, 0)\n",
    "d = c(4, 3, 1, 1, 0, 5)\n",
    "e = c(14, 22, 8, NaN, 1, 44)\n",
    "\n",
    "example_df <- data.frame(\"a\" = a, \"b\" =  b, \"c\" = c, \"d\" = d, \"e\" = e)\n",
    "head(example_df)"
   ]
  },
  {
   "cell_type": "code",
   "execution_count": 22,
   "metadata": {},
   "outputs": [
    {
     "data": {
      "text/html": [
       "<table>\n",
       "<thead><tr><th></th><th scope=col>a</th><th scope=col>b</th><th scope=col>c</th><th scope=col>d</th><th scope=col>e</th></tr></thead>\n",
       "<tbody>\n",
       "\t<tr><th scope=row>1</th><td>15  </td><td>0.20</td><td>1   </td><td>4   </td><td>14  </td></tr>\n",
       "\t<tr><th scope=row>2</th><td>31  </td><td>0.40</td><td>1   </td><td>3   </td><td>22  </td></tr>\n",
       "\t<tr><th scope=row>6</th><td>47  </td><td>0.08</td><td>0   </td><td>5   </td><td>44  </td></tr>\n",
       "</tbody>\n",
       "</table>\n"
      ],
      "text/latex": [
       "\\begin{tabular}{r|lllll}\n",
       "  & a & b & c & d & e\\\\\n",
       "\\hline\n",
       "\t1 & 15   & 0.20 & 1    & 4    & 14  \\\\\n",
       "\t2 & 31   & 0.40 & 1    & 3    & 22  \\\\\n",
       "\t6 & 47   & 0.08 & 0    & 5    & 44  \\\\\n",
       "\\end{tabular}\n"
      ],
      "text/markdown": [
       "\n",
       "| <!--/--> | a | b | c | d | e |\n",
       "|---|---|---|---|---|---|\n",
       "| 1 | 15   | 0.20 | 1    | 4    | 14   |\n",
       "| 2 | 31   | 0.40 | 1    | 3    | 22   |\n",
       "| 6 | 47   | 0.08 | 0    | 5    | 44   |\n",
       "\n"
      ],
      "text/plain": [
       "  a  b    c d e \n",
       "1 15 0.20 1 4 14\n",
       "2 31 0.40 1 3 22\n",
       "6 47 0.08 0 5 44"
      ]
     },
     "metadata": {},
     "output_type": "display_data"
    }
   ],
   "source": [
    "# Podríamos eliminar las filas que contengan valores faltantes.\n",
    "na.omit(example_df)"
   ]
  },
  {
   "cell_type": "code",
   "execution_count": 23,
   "metadata": {},
   "outputs": [
    {
     "data": {
      "text/html": [
       "<table>\n",
       "<thead><tr><th scope=col>a</th><th scope=col>b</th><th scope=col>c</th><th scope=col>d</th><th scope=col>e</th></tr></thead>\n",
       "<tbody>\n",
       "\t<tr><td>15   </td><td>0.200</td><td> 1   </td><td>4    </td><td> 14  </td></tr>\n",
       "\t<tr><td>31   </td><td>0.400</td><td> 1   </td><td>3    </td><td> 22  </td></tr>\n",
       "\t<tr><td>22   </td><td>0.462</td><td> 0   </td><td>1    </td><td>  8  </td></tr>\n",
       "\t<tr><td>77   </td><td>0.990</td><td> 0   </td><td>1    </td><td>NaN  </td></tr>\n",
       "\t<tr><td>53   </td><td>0.640</td><td>NA   </td><td>0    </td><td>  1  </td></tr>\n",
       "\t<tr><td>47   </td><td>0.080</td><td> 0   </td><td>5    </td><td> 44  </td></tr>\n",
       "</tbody>\n",
       "</table>\n"
      ],
      "text/latex": [
       "\\begin{tabular}{r|lllll}\n",
       " a & b & c & d & e\\\\\n",
       "\\hline\n",
       "\t 15    & 0.200 &  1    & 4     &  14  \\\\\n",
       "\t 31    & 0.400 &  1    & 3     &  22  \\\\\n",
       "\t 22    & 0.462 &  0    & 1     &   8  \\\\\n",
       "\t 77    & 0.990 &  0    & 1     & NaN  \\\\\n",
       "\t 53    & 0.640 & NA    & 0     &   1  \\\\\n",
       "\t 47    & 0.080 &  0    & 5     &  44  \\\\\n",
       "\\end{tabular}\n"
      ],
      "text/markdown": [
       "\n",
       "| a | b | c | d | e |\n",
       "|---|---|---|---|---|\n",
       "| 15    | 0.200 |  1    | 4     |  14   |\n",
       "| 31    | 0.400 |  1    | 3     |  22   |\n",
       "| 22    | 0.462 |  0    | 1     |   8   |\n",
       "| 77    | 0.990 |  0    | 1     | NaN   |\n",
       "| 53    | 0.640 | NA    | 0     |   1   |\n",
       "| 47    | 0.080 |  0    | 5     |  44   |\n",
       "\n"
      ],
      "text/plain": [
       "  a  b     c  d e  \n",
       "1 15 0.200  1 4  14\n",
       "2 31 0.400  1 3  22\n",
       "3 22 0.462  0 1   8\n",
       "4 77 0.990  0 1 NaN\n",
       "5 53 0.640 NA 0   1\n",
       "6 47 0.080  0 5  44"
      ]
     },
     "metadata": {},
     "output_type": "display_data"
    }
   ],
   "source": [
    "# Podríamos reemplazar los valores faltantes de la columna b por la media\n",
    "example_df$b[is.na(example_df$b)] = mean(example_df$b , na.rm = TRUE)\n",
    "example_df"
   ]
  },
  {
   "cell_type": "code",
   "execution_count": 24,
   "metadata": {},
   "outputs": [
    {
     "data": {
      "text/html": [
       "<table>\n",
       "<thead><tr><th scope=col>a</th><th scope=col>b</th><th scope=col>c</th><th scope=col>d</th><th scope=col>e</th></tr></thead>\n",
       "<tbody>\n",
       "\t<tr><td>15   </td><td>0.200</td><td> 1   </td><td>4    </td><td>14   </td></tr>\n",
       "\t<tr><td>31   </td><td>0.400</td><td> 1   </td><td>3    </td><td>22   </td></tr>\n",
       "\t<tr><td>22   </td><td>0.462</td><td> 0   </td><td>1    </td><td> 8   </td></tr>\n",
       "\t<tr><td>77   </td><td>0.990</td><td> 0   </td><td>1    </td><td>14   </td></tr>\n",
       "\t<tr><td>53   </td><td>0.640</td><td>NA   </td><td>0    </td><td> 1   </td></tr>\n",
       "\t<tr><td>47   </td><td>0.080</td><td> 0   </td><td>5    </td><td>44   </td></tr>\n",
       "</tbody>\n",
       "</table>\n"
      ],
      "text/latex": [
       "\\begin{tabular}{r|lllll}\n",
       " a & b & c & d & e\\\\\n",
       "\\hline\n",
       "\t 15    & 0.200 &  1    & 4     & 14   \\\\\n",
       "\t 31    & 0.400 &  1    & 3     & 22   \\\\\n",
       "\t 22    & 0.462 &  0    & 1     &  8   \\\\\n",
       "\t 77    & 0.990 &  0    & 1     & 14   \\\\\n",
       "\t 53    & 0.640 & NA    & 0     &  1   \\\\\n",
       "\t 47    & 0.080 &  0    & 5     & 44   \\\\\n",
       "\\end{tabular}\n"
      ],
      "text/markdown": [
       "\n",
       "| a | b | c | d | e |\n",
       "|---|---|---|---|---|\n",
       "| 15    | 0.200 |  1    | 4     | 14    |\n",
       "| 31    | 0.400 |  1    | 3     | 22    |\n",
       "| 22    | 0.462 |  0    | 1     |  8    |\n",
       "| 77    | 0.990 |  0    | 1     | 14    |\n",
       "| 53    | 0.640 | NA    | 0     |  1    |\n",
       "| 47    | 0.080 |  0    | 5     | 44    |\n",
       "\n"
      ],
      "text/plain": [
       "  a  b     c  d e \n",
       "1 15 0.200  1 4 14\n",
       "2 31 0.400  1 3 22\n",
       "3 22 0.462  0 1  8\n",
       "4 77 0.990  0 1 14\n",
       "5 53 0.640 NA 0  1\n",
       "6 47 0.080  0 5 44"
      ]
     },
     "metadata": {},
     "output_type": "display_data"
    }
   ],
   "source": [
    "# Podríamos reemplazar los valores faltantes de la columna c por la media\n",
    "example_df$e[is.na(example_df$e)] = median(example_df$e , na.rm = TRUE)\n",
    "example_df"
   ]
  },
  {
   "cell_type": "markdown",
   "metadata": {},
   "source": [
    "## 4. Analizando modelos predictivos"
   ]
  },
  {
   "cell_type": "markdown",
   "metadata": {},
   "source": [
    "Para efectos de claridad en las secciones demostrativas por venir, re-mapeamos los valores de target para una lectura más fácil."
   ]
  },
  {
   "cell_type": "code",
   "execution_count": 25,
   "metadata": {},
   "outputs": [],
   "source": [
    "heart_df$target[heart_df$target==1] <- 'si'\n",
    "heart_df$target[heart_df$target==0] <- 'no'"
   ]
  },
  {
   "cell_type": "markdown",
   "metadata": {},
   "source": [
    "Establecemos sets de training y test, con una proporción 25% - 75%. Para ello utilizamos la función sample, en conjunto con sintaxis especial de corchetes.\n",
    "\n",
    "https://www.rdocumentation.org/packages/base/versions/3.6.1/topics/sample\n",
    "\n",
    "Uso de corchetes: http://www.dataanalytics.org.uk/Data%20Analysis/TipsAndTricks/TTR-20131028.htm"
   ]
  },
  {
   "cell_type": "code",
   "execution_count": 26,
   "metadata": {},
   "outputs": [],
   "source": [
    "rows <- nrow(heart_df)\n",
    "muestra = sample(1:rows, (rows/3))\n",
    "ttesting = heart_df[muestra,]\n",
    "ttrain = heart_df[-muestra,]"
   ]
  },
  {
   "cell_type": "markdown",
   "metadata": {},
   "source": [
    "Es necesario indicar que la columna a predecir contiene datos de tipo _factor_, osea, datos categóricos, esto para la correcta ejecución de los modelos predictivos como problemas de clasificación, dada la naturaleza de los datos."
   ]
  },
  {
   "cell_type": "code",
   "execution_count": 27,
   "metadata": {},
   "outputs": [],
   "source": [
    "ttrain$target <- as.factor(ttrain$target)"
   ]
  },
  {
   "cell_type": "markdown",
   "metadata": {},
   "source": [
    "### 4.1 Árboles de Decisión"
   ]
  },
  {
   "cell_type": "markdown",
   "metadata": {},
   "source": [
    "Para los árboles de decisión, se utiliza la biblioteca de R _rpart_, abreviado de Recursive Partitioning. Incluímos también _rpart.plot_ para poder obtener una visualización del árbol de decisión.\n",
    "\n",
    "https://www.rdocumentation.org/packages/rpart/versions/4.1-15 "
   ]
  },
  {
   "cell_type": "code",
   "execution_count": 28,
   "metadata": {},
   "outputs": [],
   "source": [
    "#install.packages('rpart')\n",
    "#install.packages('rpart.plot')"
   ]
  },
  {
   "cell_type": "markdown",
   "metadata": {},
   "source": [
    "Cargamos las bibliotecas para su uso"
   ]
  },
  {
   "cell_type": "code",
   "execution_count": 29,
   "metadata": {},
   "outputs": [
    {
     "name": "stderr",
     "output_type": "stream",
     "text": [
      "Warning message:\n",
      "\"package 'rpart' was built under R version 3.6.1\"Warning message:\n",
      "\"package 'rpart.plot' was built under R version 3.6.1\""
     ]
    }
   ],
   "source": [
    "library(rpart)\n",
    "library(rpart.plot)"
   ]
  },
  {
   "cell_type": "markdown",
   "metadata": {},
   "source": [
    "La creación de modelos predictivos es muy similar entre los distintos métodos, a excepción de ciertos hiperparámetros a definir según sea el caso. Para este caso los hiperparámetros de interés como _method_ son inferidos por el algoritmo dado que establecimos nuestro 'y' como datos categóricos.\n",
    "\n",
    "Asimismo, se utiliza la función _predict_ para ejecutar la predicción propiamente, esto independientemente del método de aprendizaje utilizado."
   ]
  },
  {
   "cell_type": "code",
   "execution_count": 30,
   "metadata": {},
   "outputs": [],
   "source": [
    "# La sintaxis especial ~. es utilizada como sufijo del tag de la columna a predecir\n",
    "modelo <- rpart(ttrain$target~., data=ttrain)"
   ]
  },
  {
   "cell_type": "code",
   "execution_count": 31,
   "metadata": {},
   "outputs": [],
   "source": [
    "# La sintaxis utilizada en el dataframe de ttesting indica que se ha de excluir la \n",
    "#    columna ubicada en el índice 14 (columna target).\n",
    "# Para mayor información del uso de corchetes referirse a \n",
    "#    http://www.dataanalytics.org.uk/Data%20Analysis/TipsAndTricks/TTR-20131028.htm\n",
    "prediccion <- predict(modelo, ttesting[,-14], type='class')"
   ]
  },
  {
   "cell_type": "markdown",
   "metadata": {},
   "source": [
    "La Matriz de Confusión nos indica el conteo de predicciones acertadas, así como de los fallos. Las columnas corresponden a las predicciones, y las filas a los valores reales en el set de testing.\n",
    "\n",
    "La diagonal que interseca _si-si_ y _no-no_ representa el conteo de predicciones acertadas.\n",
    "\n",
    "Los otros dos valores indican falsos positivos desde la perspectiva de los resultados de la predicción."
   ]
  },
  {
   "cell_type": "code",
   "execution_count": 32,
   "metadata": {},
   "outputs": [
    {
     "data": {
      "text/plain": [
       "    prediccion\n",
       "     no si\n",
       "  no 34 10\n",
       "  si 11 46"
      ]
     },
     "metadata": {},
     "output_type": "display_data"
    }
   ],
   "source": [
    "matConf <- table(ttesting$target, prediccion)\n",
    "matConf"
   ]
  },
  {
   "cell_type": "code",
   "execution_count": 33,
   "metadata": {},
   "outputs": [
    {
     "name": "stdout",
     "output_type": "stream",
     "text": [
      "[1] \"Error: 20.79%   -   Accuracy: 79.21%\"\n"
     ]
    }
   ],
   "source": [
    "error <- sum(prediccion != ttesting$target)/nrow(ttesting)\n",
    "error <- error*100\n",
    "# un wrapper para un printf estilo C, because of reasons...\n",
    "printf <- function(...) print(sprintf(...))\n",
    "printf('Error: %.2f%%   -   Accuracy: %.2f%%', error, 100-error)"
   ]
  },
  {
   "cell_type": "markdown",
   "metadata": {},
   "source": [
    "Recurrimos a la función _prp_ del paquete _rpart.plot_ para poder visualizar el árbol de decisión utilizado.\n",
    "\n",
    "Con el parámetro _extra_ solicitamos la inclusión de los porcentajes de ocurrencia de cada nodo, así como la probabilidad de observación del nodo según la clase.\n",
    "\n",
    "https://www.rdocumentation.org/packages/rpart.plot/versions/3.0.7/topics/prp"
   ]
  },
  {
   "cell_type": "code",
   "execution_count": 34,
   "metadata": {},
   "outputs": [
    {
     "data": {
      "image/png": "[encoded data removed]",
      "text/plain": [
       "plot without title"
      ]
     },
     "metadata": {},
     "output_type": "display_data"
    }
   ],
   "source": [
    "prp(modelo, extra=104, branch.type=2, box.col=c('pink','palegreen3')[modelo$frame$yval])"
   ]
  },
  {
   "cell_type": "markdown",
   "metadata": {},
   "source": [
    "### 4.2 Naïve Bayes"
   ]
  },
  {
   "cell_type": "markdown",
   "metadata": {},
   "source": [
    "Para el método de Naïve Bayes, se utiliza la biblioteca de R _e1071_, la cual sí está disponible por medio de Conda.\n",
    "\n",
    "https://www.rdocumentation.org/packages/e1071/versions/1.7-2/topics/naiveBayes"
   ]
  },
  {
   "cell_type": "markdown",
   "metadata": {},
   "source": [
    "Cargamos la biblioteca para su uso"
   ]
  },
  {
   "cell_type": "code",
   "execution_count": 35,
   "metadata": {},
   "outputs": [],
   "source": [
    "library(e1071)"
   ]
  },
  {
   "cell_type": "markdown",
   "metadata": {},
   "source": [
    "Al igual que en otros métodos, es posible especificar hiperparámetros para ajustar la creación del modelo según las necesidades y la naturaleza de los datos."
   ]
  },
  {
   "cell_type": "code",
   "execution_count": 36,
   "metadata": {},
   "outputs": [],
   "source": [
    "modelo <- naiveBayes(ttrain$target~., data=ttrain)"
   ]
  },
  {
   "cell_type": "code",
   "execution_count": 37,
   "metadata": {},
   "outputs": [],
   "source": [
    "prediccion <- predict(modelo, ttesting[,-14])"
   ]
  },
  {
   "cell_type": "code",
   "execution_count": 38,
   "metadata": {},
   "outputs": [
    {
     "data": {
      "text/plain": [
       "    prediccion\n",
       "     no si\n",
       "  no 30 14\n",
       "  si  6 51"
      ]
     },
     "metadata": {},
     "output_type": "display_data"
    }
   ],
   "source": [
    "# podemos también utilizar ttesting$target en lugar de ttesting[,14]\n",
    "matConf = table(ttesting[,14], prediccion)\n",
    "matConf"
   ]
  },
  {
   "cell_type": "code",
   "execution_count": 39,
   "metadata": {},
   "outputs": [
    {
     "name": "stdout",
     "output_type": "stream",
     "text": [
      "[1] \"Error: 19.80%   -   Accuracy: 80.20%\"\n"
     ]
    }
   ],
   "source": [
    "error <- sum(prediccion != ttesting$target)/nrow(ttesting)\n",
    "error <- error*100\n",
    "printf('Error: %.2f%%   -   Accuracy: %.2f%%', error, 100-error)"
   ]
  },
  {
   "cell_type": "markdown",
   "metadata": {},
   "source": [
    "### 4.3 KNN"
   ]
  },
  {
   "cell_type": "markdown",
   "metadata": {},
   "source": [
    "Para el método de K-Nearest Neighbors, se utiliza la biblioteca de R _kknn_, la cual requiere instalación manual por no estar disponible por medio de Conda.\n",
    "\n",
    "https://www.rdocumentation.org/packages/kknn/versions/1.3.1/topics/kknn"
   ]
  },
  {
   "cell_type": "code",
   "execution_count": 40,
   "metadata": {},
   "outputs": [],
   "source": [
    "# install.packages('kknn')"
   ]
  },
  {
   "cell_type": "markdown",
   "metadata": {},
   "source": [
    "Cargamos la librería para su uso"
   ]
  },
  {
   "cell_type": "code",
   "execution_count": 41,
   "metadata": {},
   "outputs": [
    {
     "name": "stderr",
     "output_type": "stream",
     "text": [
      "Warning message:\n",
      "\"package 'kknn' was built under R version 3.6.1\""
     ]
    }
   ],
   "source": [
    "library('kknn')"
   ]
  },
  {
   "cell_type": "markdown",
   "metadata": {},
   "source": [
    "En este caso proveemos el hiperparámetro K=8 a modo de ejemplo."
   ]
  },
  {
   "cell_type": "code",
   "execution_count": 42,
   "metadata": {},
   "outputs": [],
   "source": [
    "modelo = train.kknn(ttrain$target~., data=ttrain, K=8)"
   ]
  },
  {
   "cell_type": "code",
   "execution_count": 43,
   "metadata": {},
   "outputs": [],
   "source": [
    "prediccion = predict(modelo, ttesting[,-14])"
   ]
  },
  {
   "cell_type": "code",
   "execution_count": 44,
   "metadata": {},
   "outputs": [
    {
     "data": {
      "text/plain": [
       "    prediccion\n",
       "     no si\n",
       "  no 31 13\n",
       "  si  9 48"
      ]
     },
     "metadata": {},
     "output_type": "display_data"
    }
   ],
   "source": [
    "matConf = table(ttesting[,14], prediccion)\n",
    "matConf"
   ]
  },
  {
   "cell_type": "code",
   "execution_count": 45,
   "metadata": {},
   "outputs": [
    {
     "name": "stdout",
     "output_type": "stream",
     "text": [
      "[1] \"Error: 21.78%   -   Accuracy: 78.22%\"\n"
     ]
    }
   ],
   "source": [
    "error <- sum(prediccion != ttesting$target)/nrow(ttesting)\n",
    "error <- error*100\n",
    "printf('Error: %.2f%%   -   Accuracy: %.2f%%', error, 100-error)"
   ]
  }
 ],
 "metadata": {
  "kernelspec": {
   "display_name": "R",
   "language": "R",
   "name": "ir"
  },
  "language_info": {
   "codemirror_mode": "r",
   "file_extension": ".r",
   "mimetype": "text/x-r-source",
   "name": "R",
   "pygments_lexer": "r",
   "version": "3.6.0"
  }
 },
 "nbformat": 4,
 "nbformat_minor": 2
}
